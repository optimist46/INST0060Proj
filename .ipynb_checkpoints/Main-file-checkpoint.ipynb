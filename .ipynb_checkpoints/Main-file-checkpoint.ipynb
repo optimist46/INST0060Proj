{
 "cells": [
  {
   "cell_type": "code",
   "execution_count": 1,
   "id": "7d307f5d",
   "metadata": {},
   "outputs": [],
   "source": [
    "import logreg\n",
    "import knn\n",
    "import randfor\n",
    "\n",
    "\n",
    "import pandas as pd\n",
    "import numpy as np\n",
    "\n",
    "from sklearn.metrics import accuracy_score\n",
    "\n",
    "from fomlads.evaluate.eval_regression import train_and_test_partition\n",
    "from fomlads.evaluate.eval_regression import train_and_test_filter\n",
    "from fomlads.evaluate.eval_regression import create_cv_folds"
   ]
  },
  {
   "cell_type": "code",
   "execution_count": 2,
   "id": "d3e6d529",
   "metadata": {},
   "outputs": [],
   "source": [
    "dataset = pd.read_csv('Data/Used Dataset.csv')"
   ]
  },
  {
   "cell_type": "code",
   "execution_count": 3,
   "id": "11287d71",
   "metadata": {},
   "outputs": [],
   "source": [
    "# Produce inputs and target from dataset\n",
    "\n",
    "number_of_columns = 14\n",
    "inputs = dataset.iloc[:, 0:13].to_numpy()\n",
    "targets = dataset['track_genre'].to_numpy()\n"
   ]
  },
  {
   "cell_type": "code",
   "execution_count": 4,
   "id": "a8ce31cb",
   "metadata": {},
   "outputs": [],
   "source": [
    "# Split the dataset into training + validation data and testing data\n",
    "\n",
    "train_filter, test_filter = train_and_test_filter(len(dataset))\n",
    "\n",
    "train_validation_inputs, train_validation_targets, test_inputs, test_targets = train_and_test_partition(inputs, targets, train_filter, test_filter)"
   ]
  },
  {
   "cell_type": "code",
   "execution_count": 5,
   "id": "6abbd188",
   "metadata": {},
   "outputs": [],
   "source": [
    "# Partition the training + validation data into training data and validation data\n",
    "\n",
    "N = len(dataset)\n",
    "number_of_folds = 4\n",
    "random_seed = 1\n",
    "np.random.seed(random_seed)\n",
    "folds = create_cv_folds(N, number_of_folds)  \n",
    "\n",
    "train_inputs = []\n",
    "train_targets = []\n",
    "validation_inputs = []\n",
    "validation_targets = []\n",
    "\n",
    "for i in range(number_of_folds):\n",
    "    train_inputs1, train_targets1, validation_inputs1, validation_targets1 = train_and_test_partition(inputs, targets, folds[i][0], folds[i][1])\n",
    "    train_inputs.append(train_inputs1)\n",
    "    train_targets.append(train_targets1)\n",
    "    validation_inputs.append(validation_inputs1)\n",
    "    validation_targets.append(validation_targets1)"
   ]
  },
  {
   "cell_type": "code",
   "execution_count": 6,
   "id": "8cdfcd5b",
   "metadata": {},
   "outputs": [],
   "source": [
    "#random forest - calculating best n estimator\n",
    "\n",
    "best_n = randfor.random_forest_n_estimator(train_inputs,train_targets, validation_inputs, validation_targets, number_of_folds)\n",
    "\n",
    "\n",
    "\n"
   ]
  },
  {
   "cell_type": "code",
   "execution_count": 7,
   "id": "aae2d0af",
   "metadata": {},
   "outputs": [],
   "source": [
    "#knn means - calculating best k value\n",
    "\n",
    "best_k = knn.knn_k_value(train_inputs, train_targets, validation_inputs, validation_targets, number_of_folds)"
   ]
  },
  {
   "cell_type": "code",
   "execution_count": 8,
   "id": "630d4356",
   "metadata": {},
   "outputs": [],
   "source": [
    "\n",
    "#logistic regression - calculating best lamda\n",
    "\n",
    "best_lambda = logreg.logistic_regression_best_lamda(train_inputs, train_targets, validation_inputs, validation_targets, number_of_folds)"
   ]
  },
  {
   "cell_type": "code",
   "execution_count": 9,
   "id": "2f60513e",
   "metadata": {},
   "outputs": [],
   "source": [
    "#refit models\n",
    "random_forest_model = randfor.test_rand_for(train_validation_inputs, train_validation_targets, test_inputs, best_n)\n",
    "knn_model = knn.test_knn(train_validation_inputs, train_validation_targets, test_inputs, best_k)\n",
    "logistic_regression_model = logreg.test_log_reg(train_validation_inputs,train_validation_targets, test_inputs, best_lambda)"
   ]
  },
  {
   "cell_type": "code",
   "execution_count": 19,
   "id": "d98930f5",
   "metadata": {},
   "outputs": [],
   "source": [
    "#run models on test data\n",
    "predict_targets = [0,0,0]\n",
    "\n",
    "predict_targets[0] = random_forest_model.predict(test_inputs)\n",
    "predict_targets[1] = knn_model.predict(test_inputs)\n",
    "predict_targets[2] = logistic_regression_model.predict(test_inputs)"
   ]
  },
  {
   "cell_type": "code",
   "execution_count": 17,
   "id": "c4d7e2cb",
   "metadata": {},
   "outputs": [
    {
     "data": {
      "text/plain": [
       "array([0., 0., 0.])"
      ]
     },
     "execution_count": 17,
     "metadata": {},
     "output_type": "execute_result"
    }
   ],
   "source": [
    "#print accuracies\n",
    "\n",
    "for i in range(3):\n",
    "    print(accuracy_score(test_targets))\n"
   ]
  }
 ],
 "metadata": {
  "kernelspec": {
   "display_name": "Python 3 (ipykernel)",
   "language": "python",
   "name": "python3"
  },
  "language_info": {
   "codemirror_mode": {
    "name": "ipython",
    "version": 3
   },
   "file_extension": ".py",
   "mimetype": "text/x-python",
   "name": "python",
   "nbconvert_exporter": "python",
   "pygments_lexer": "ipython3",
   "version": "3.9.2"
  }
 },
 "nbformat": 4,
 "nbformat_minor": 5
}
