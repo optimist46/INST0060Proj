{
 "cells": [
  {
   "cell_type": "code",
   "execution_count": 77,
   "id": "a8c815b2",
   "metadata": {},
   "outputs": [],
   "source": [
    "import numpy as np # linear algebra\n",
    "import pandas as pd # data processing, CSV file I/O (e.g. pd.read_csv)\n",
    "from matplotlib import pyplot as plt\n",
    "from fomlads.data.external import import_for_classification"
   ]
  },
  {
   "cell_type": "code",
   "execution_count": 78,
   "id": "57f9b940",
   "metadata": {},
   "outputs": [
    {
     "name": "stdout",
     "output_type": "stream",
     "text": [
      "dataframe.columns = Index(['popularity', 'duration_ms', 'explicit', 'danceability', 'energy',\n",
      "       'key', 'loudness', 'mode', 'speechiness', 'acousticness',\n",
      "       'instrumentalness', 'liveness', 'valence', 'tempo', 'time_signature',\n",
      "       'track_genre'],\n",
      "      dtype='object')\n",
      "input_cols = ['popularity', 'duration_ms', 'explicit', 'danceability', 'energy', 'key', 'loudness', 'mode', 'speechiness', 'acousticness', 'instrumentalness', 'liveness', 'valence', 'tempo', 'time_signature']\n",
      "classes = array(['acoustic', 'classical', 'edm', 'hip-hop', 'house', 'jazz',\n",
      "       'k-pop', 'pop', 'r-n-b', 'rock'], dtype=object)\n"
     ]
    },
    {
     "data": {
      "text/plain": [
       "(6993, 15)"
      ]
     },
     "execution_count": 78,
     "metadata": {},
     "output_type": "execute_result"
    }
   ],
   "source": [
    "#importing training data\n",
    "\n",
    "data_source_training = 'Data/training.csv'\n",
    "input_cols = ['popularity', 'duration_ms', 'explicit', 'danceability', 'energy',\n",
    "       'key', 'loudness', 'mode', 'speechiness', 'acousticness',\n",
    "       'instrumentalness', 'liveness', 'valence', 'tempo', 'time_signature']\n",
    "im_train, targets, features, train_labels = import_for_classification(data_source_training,input_cols = input_cols)\n",
    "\n",
    "train.shape"
   ]
  },
  {
   "cell_type": "code",
   "execution_count": 79,
   "id": "8a6fbbe3",
   "metadata": {},
   "outputs": [
    {
     "name": "stdout",
     "output_type": "stream",
     "text": [
      "0.0\n"
     ]
    }
   ],
   "source": [
    "\n",
    "# Initializing needed variables\n",
    "\n",
    "\n",
    "nclasses = len(train_labels)\n",
    "nfeatures = len(train[0])\n",
    "print(targets[12])\n",
    "class_indexes = [0,1,2,3,4,5,6,7,8,9,10]\n",
    "\n",
    "\n",
    "class_means, other_class_means = np.empty((nclasses, nfeatures)), np.empty((nclasses, nfeatures))\n",
    "other_class = []\n",
    "SW_one, SW_two, SW = np.zeros((nclasses, nfeatures, nfeatures)), np.zeros((nclasses, nfeatures, nfeatures)), np.zeros((nclasses, nfeatures, nfeatures))\n",
    "W = np.zeros((nclasses, nfeatures, 1))\n",
    "W0 = np.zeros((nclasses))"
   ]
  },
  {
   "cell_type": "code",
   "execution_count": 80,
   "id": "5725d410",
   "metadata": {},
   "outputs": [],
   "source": [
    "for i in range(nclasses):\n",
    "    class_means[i] = np.mean(im_train[class_indexes[i]], axis=0)\n",
    "    \n",
    "    other_class.append(np.delete(im_train, class_indexes[i], axis=0)) # one-versus-the-rest approach\n",
    "    other_class_means[i] = np.mean(other_class[i], axis=0)\n",
    "    between_class1 = np.subtract(im_train[class_indexes[i]].reshape(-1, nfeatures), \n",
    "                                 class_means[i])\n",
    "    SW_one[i] = between_class1.T.dot(between_class1)\n",
    "    between_class2 = np.subtract(other_class[i], other_class_means[i])\n",
    "    SW_two[i] = between_class2.T.dot(between_class2)\n",
    "    SW[i] = SW_one[i] + SW_two[i]\n",
    "    W[i] = np.dot(np.linalg.pinv(SW[i]), \n",
    "                  np.subtract(other_class_means[i], \n",
    "                              class_means[i]).reshape(-1, 1))\n",
    "    W0[i] = -0.5 * np.dot(W[i].T, (class_means[i] + other_class_means[i]))"
   ]
  },
  {
   "cell_type": "code",
   "execution_count": 81,
   "id": "0e3fefd2",
   "metadata": {},
   "outputs": [
    {
     "name": "stdout",
     "output_type": "stream",
     "text": [
      "(10, 15, 15)\n",
      "(10, 15, 1)\n",
      "(10,)\n"
     ]
    }
   ],
   "source": [
    "print(SW.shape)\n",
    "print(W.shape)\n",
    "print(W0.shape)"
   ]
  },
  {
   "cell_type": "code",
   "execution_count": 82,
   "id": "6fa6e32a",
   "metadata": {},
   "outputs": [
    {
     "name": "stdout",
     "output_type": "stream",
     "text": [
      "dataframe.columns = Index(['popularity', 'duration_ms', 'explicit', 'danceability', 'energy',\n",
      "       'key', 'loudness', 'mode', 'speechiness', 'acousticness',\n",
      "       'instrumentalness', 'liveness', 'valence', 'tempo', 'time_signature',\n",
      "       'track_genre'],\n",
      "      dtype='object')\n",
      "input_cols = ['popularity', 'duration_ms', 'explicit', 'danceability', 'energy', 'key', 'loudness', 'mode', 'speechiness', 'acousticness', 'instrumentalness', 'liveness', 'valence', 'tempo', 'time_signature']\n",
      "classes = array(['acoustic', 'classical', 'edm', 'hip-hop', 'house', 'jazz',\n",
      "       'k-pop', 'pop', 'r-n-b', 'rock'], dtype=object)\n"
     ]
    },
    {
     "data": {
      "text/plain": [
       "4.503159294978384"
      ]
     },
     "execution_count": 82,
     "metadata": {},
     "output_type": "execute_result"
    }
   ],
   "source": [
    "data_source_testing = 'Data/testing.csv'\n",
    "\n",
    "im_test, targets, features, test_labels = import_for_classification(data_source_testing,input_cols = input_cols)\n",
    "\n",
    "np.mean(targets)"
   ]
  },
  {
   "cell_type": "code",
   "execution_count": 83,
   "id": "a93af8f4",
   "metadata": {},
   "outputs": [],
   "source": [
    "Y = np.zeros((len(im_test), nclasses))\n",
    "predict = np.zeros((len(im_test)), dtype=int)\n",
    "for j in range(len(im_test)):\n",
    "    for i in range(nclasses):\n",
    "        Y[j, i] = np.dot(W[i].T,  im_test[j]) + W0[i]\n",
    "    predict[j] = np.argmin(Y[j])"
   ]
  },
  {
   "cell_type": "code",
   "execution_count": 102,
   "id": "20a1780f",
   "metadata": {},
   "outputs": [
    {
     "name": "stdout",
     "output_type": "stream",
     "text": [
      "8579 0.171 513\n"
     ]
    }
   ],
   "source": [
    "n = 0\n",
    "f = 0\n",
    "for i in range(3000):\n",
    "    #print(predict[i],targets[i],int(predict[i])-int(targets[i]))\n",
    "    n+=abs(int(predict[i])-int(targets[i]))\n",
    "    if int(predict[i])-int(targets[i]) == 0:\n",
    "        f+=1\n",
    "print(n, f/3000,f)"
   ]
  },
  {
   "cell_type": "code",
   "execution_count": null,
   "id": "424209dd",
   "metadata": {},
   "outputs": [],
   "source": []
  },
  {
   "cell_type": "code",
   "execution_count": null,
   "id": "74ef302c",
   "metadata": {},
   "outputs": [],
   "source": []
  }
 ],
 "metadata": {
  "kernelspec": {
   "display_name": "Python 3 (ipykernel)",
   "language": "python",
   "name": "python3"
  },
  "language_info": {
   "codemirror_mode": {
    "name": "ipython",
    "version": 3
   },
   "file_extension": ".py",
   "mimetype": "text/x-python",
   "name": "python",
   "nbconvert_exporter": "python",
   "pygments_lexer": "ipython3",
   "version": "3.9.2"
  }
 },
 "nbformat": 4,
 "nbformat_minor": 5
}
