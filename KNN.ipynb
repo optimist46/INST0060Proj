{
 "cells": [
  {
   "cell_type": "code",
   "execution_count": 11,
   "id": "4bda1df7",
   "metadata": {},
   "outputs": [],
   "source": [
    "import sklearn\n",
    "import numpy as np\n",
    "import pandas as pd\n",
    "import scipy.stats as stats\n",
    "import matplotlib.pyplot as plt\n",
    "\n",
    "from sklearn.linear_model import LogisticRegression\n",
    "from sklearn.metrics import accuracy_score\n",
    "\n",
    "from fomlads.evaluate.eval_regression import train_and_test_partition\n",
    "from fomlads.evaluate.eval_regression import train_and_test_filter\n",
    "from fomlads.evaluate.eval_regression import create_cv_folds\n",
    "\n",
    "from sklearn.neighbors import KNeighborsClassifier\n"
   ]
  },
  {
   "cell_type": "code",
   "execution_count": 12,
   "id": "abc0347a",
   "metadata": {},
   "outputs": [],
   "source": [
    "dataset = pd.read_csv('./Data/Used Dataset.csv')"
   ]
  },
  {
   "cell_type": "code",
   "execution_count": 13,
   "id": "45351ac0",
   "metadata": {},
   "outputs": [
    {
     "name": "stdout",
     "output_type": "stream",
     "text": [
      "[[4.40000e+01 6.21000e-03 7.11000e-01 ... 3.82000e-02 1.42065e+02\n",
      "  6.07000e-01]\n",
      " [3.40000e+01 3.47000e-01 7.29000e-01 ... 1.84000e-01 7.99690e+01\n",
      "  2.87000e-01]\n",
      " [3.90000e+01 9.18000e-01 4.84000e-01 ... 3.46000e-02 8.27070e+01\n",
      "  2.06000e-01]\n",
      " ...\n",
      " [5.10000e+01 5.97000e-03 6.93000e-01 ... 1.46000e-01 1.31079e+02\n",
      "  3.95000e-01]\n",
      " [6.50000e+01 8.31000e-02 7.82000e-01 ... 4.41000e-02 7.58860e+01\n",
      "  3.54000e-01]\n",
      " [6.70000e+01 1.02000e-01 8.62000e-01 ... 1.01000e-01 9.92010e+01\n",
      "  7.65000e-01]]\n",
      "['Jazz' 'Jazz' 'Jazz' ... 'Hip-Hop' 'Hip-Hop' 'Hip-Hop']\n"
     ]
    }
   ],
   "source": [
    "# Produce inputs and target from dataset\n",
    "\n",
    "number_of_columns = 14\n",
    "inputs = dataset.iloc[:, 0:13].to_numpy()\n",
    "targets = dataset['track_genre'].to_numpy()\n",
    "print(inputs)\n",
    "print(targets)"
   ]
  },
  {
   "cell_type": "code",
   "execution_count": 14,
   "id": "a70bb4fc",
   "metadata": {},
   "outputs": [],
   "source": [
    "# Split the dataset into training + validation data and testing data\n",
    "\n",
    "train_filter, test_filter = train_and_test_filter(len(dataset))\n",
    "\n",
    "train_validation_inputs, train_validation_targets, test_inputs, test_targets = train_and_test_partition(inputs, targets, train_filter, test_filter)"
   ]
  },
  {
   "cell_type": "code",
   "execution_count": 15,
   "id": "e77f382d",
   "metadata": {},
   "outputs": [
    {
     "name": "stdout",
     "output_type": "stream",
     "text": [
      "[array([[4.40000e+01, 6.21000e-03, 7.11000e-01, ..., 3.82000e-02,\n",
      "        1.42065e+02, 6.07000e-01],\n",
      "       [3.40000e+01, 3.47000e-01, 7.29000e-01, ..., 1.84000e-01,\n",
      "        7.99690e+01, 2.87000e-01],\n",
      "       [3.60000e+01, 3.45000e-02, 4.73000e-01, ..., 6.30000e-02,\n",
      "        1.04694e+02, 3.83000e-01],\n",
      "       ...,\n",
      "       [5.90000e+01, 3.34000e-02, 9.13000e-01, ..., 2.98000e-01,\n",
      "        9.80280e+01, 3.30000e-01],\n",
      "       [7.20000e+01, 1.57000e-01, 7.09000e-01, ..., 5.50000e-02,\n",
      "        1.22043e+02, 1.13000e-01],\n",
      "       [6.50000e+01, 8.31000e-02, 7.82000e-01, ..., 4.41000e-02,\n",
      "        7.58860e+01, 3.54000e-01]]), array([[3.90000e+01, 9.18000e-01, 4.84000e-01, ..., 3.46000e-02,\n",
      "        8.27070e+01, 2.06000e-01],\n",
      "       [3.60000e+01, 3.45000e-02, 4.73000e-01, ..., 6.30000e-02,\n",
      "        1.04694e+02, 3.83000e-01],\n",
      "       [6.30000e+01, 6.99000e-01, 5.80000e-01, ..., 2.69000e-02,\n",
      "        9.30370e+01, 3.64000e-01],\n",
      "       ...,\n",
      "       [5.10000e+01, 5.97000e-03, 6.93000e-01, ..., 1.46000e-01,\n",
      "        1.31079e+02, 3.95000e-01],\n",
      "       [6.50000e+01, 8.31000e-02, 7.82000e-01, ..., 4.41000e-02,\n",
      "        7.58860e+01, 3.54000e-01],\n",
      "       [6.70000e+01, 1.02000e-01, 8.62000e-01, ..., 1.01000e-01,\n",
      "        9.92010e+01, 7.65000e-01]]), array([[4.40000e+01, 6.21000e-03, 7.11000e-01, ..., 3.82000e-02,\n",
      "        1.42065e+02, 6.07000e-01],\n",
      "       [3.40000e+01, 3.47000e-01, 7.29000e-01, ..., 1.84000e-01,\n",
      "        7.99690e+01, 2.87000e-01],\n",
      "       [3.90000e+01, 9.18000e-01, 4.84000e-01, ..., 3.46000e-02,\n",
      "        8.27070e+01, 2.06000e-01],\n",
      "       ...,\n",
      "       [7.20000e+01, 1.57000e-01, 7.09000e-01, ..., 5.50000e-02,\n",
      "        1.22043e+02, 1.13000e-01],\n",
      "       [5.10000e+01, 5.97000e-03, 6.93000e-01, ..., 1.46000e-01,\n",
      "        1.31079e+02, 3.95000e-01],\n",
      "       [6.70000e+01, 1.02000e-01, 8.62000e-01, ..., 1.01000e-01,\n",
      "        9.92010e+01, 7.65000e-01]]), array([[4.40000e+01, 6.21000e-03, 7.11000e-01, ..., 3.82000e-02,\n",
      "        1.42065e+02, 6.07000e-01],\n",
      "       [3.40000e+01, 3.47000e-01, 7.29000e-01, ..., 1.84000e-01,\n",
      "        7.99690e+01, 2.87000e-01],\n",
      "       [3.90000e+01, 9.18000e-01, 4.84000e-01, ..., 3.46000e-02,\n",
      "        8.27070e+01, 2.06000e-01],\n",
      "       ...,\n",
      "       [5.10000e+01, 5.97000e-03, 6.93000e-01, ..., 1.46000e-01,\n",
      "        1.31079e+02, 3.95000e-01],\n",
      "       [6.50000e+01, 8.31000e-02, 7.82000e-01, ..., 4.41000e-02,\n",
      "        7.58860e+01, 3.54000e-01],\n",
      "       [6.70000e+01, 1.02000e-01, 8.62000e-01, ..., 1.01000e-01,\n",
      "        9.92010e+01, 7.65000e-01]])]\n",
      "[array(['Jazz', 'Jazz', 'Jazz', ..., 'Hip-Hop', 'Hip-Hop', 'Hip-Hop'],\n",
      "      dtype=object), array(['Jazz', 'Jazz', 'Jazz', ..., 'Hip-Hop', 'Hip-Hop', 'Hip-Hop'],\n",
      "      dtype=object), array(['Jazz', 'Jazz', 'Jazz', ..., 'Hip-Hop', 'Hip-Hop', 'Hip-Hop'],\n",
      "      dtype=object), array(['Jazz', 'Jazz', 'Jazz', ..., 'Hip-Hop', 'Hip-Hop', 'Hip-Hop'],\n",
      "      dtype=object)]\n",
      "[array([[3.90000e+01, 9.18000e-01, 4.84000e-01, ..., 3.46000e-02,\n",
      "        8.27070e+01, 2.06000e-01],\n",
      "       [4.20000e+01, 1.51000e-01, 7.79000e-01, ..., 4.12000e-02,\n",
      "        9.10350e+01, 3.58000e-01],\n",
      "       [4.50000e+01, 3.72000e-02, 3.94000e-01, ..., 1.59000e-01,\n",
      "        8.55530e+01, 3.98000e-01],\n",
      "       ...,\n",
      "       [5.70000e+01, 3.63000e-02, 8.29000e-01, ..., 5.15000e-02,\n",
      "        1.03816e+02, 5.94000e-01],\n",
      "       [5.10000e+01, 5.97000e-03, 6.93000e-01, ..., 1.46000e-01,\n",
      "        1.31079e+02, 3.95000e-01],\n",
      "       [6.70000e+01, 1.02000e-01, 8.62000e-01, ..., 1.01000e-01,\n",
      "        9.92010e+01, 7.65000e-01]]), array([[4.40000e+01, 6.21000e-03, 7.11000e-01, ..., 3.82000e-02,\n",
      "        1.42065e+02, 6.07000e-01],\n",
      "       [3.40000e+01, 3.47000e-01, 7.29000e-01, ..., 1.84000e-01,\n",
      "        7.99690e+01, 2.87000e-01],\n",
      "       [5.30000e+01, 5.01000e-01, 9.21000e-01, ..., 2.13000e-01,\n",
      "        1.23043e+02, 7.61000e-01],\n",
      "       ...,\n",
      "       [5.40000e+01, 3.04000e-01, 6.42000e-01, ..., 2.15000e-01,\n",
      "        8.95960e+01, 2.76000e-01],\n",
      "       [5.60000e+01, 1.33000e-01, 8.49000e-01, ..., 5.16000e-02,\n",
      "        9.99880e+01, 6.29000e-01],\n",
      "       [5.90000e+01, 3.34000e-02, 9.13000e-01, ..., 2.98000e-01,\n",
      "        9.80280e+01, 3.30000e-01]]), array([[6.30000e+01, 6.99000e-01, 5.80000e-01, ..., 2.69000e-02,\n",
      "        9.30370e+01, 3.64000e-01],\n",
      "       [4.20000e+01, 7.88000e-02, 7.05000e-01, ..., 3.15000e-02,\n",
      "        1.15126e+02, 6.68000e-01],\n",
      "       [4.80000e+01, 7.29000e-03, 4.40000e-01, ..., 8.36000e-02,\n",
      "        1.69765e+02, 7.39000e-01],\n",
      "       ...,\n",
      "       [5.10000e+01, 1.95000e-01, 6.30000e-01, ..., 1.20000e-01,\n",
      "        1.58006e+02, 4.46000e-01],\n",
      "       [6.20000e+01, 1.06000e-02, 9.44000e-01, ..., 6.40000e-02,\n",
      "        1.07992e+02, 7.05000e-01],\n",
      "       [6.50000e+01, 8.31000e-02, 7.82000e-01, ..., 4.41000e-02,\n",
      "        7.58860e+01, 3.54000e-01]]), array([[3.60000e+01, 3.45000e-02, 4.73000e-01, ..., 6.30000e-02,\n",
      "        1.04694e+02, 3.83000e-01],\n",
      "       [3.90000e+01, 4.95000e-01, 6.56000e-01, ..., 3.48000e-02,\n",
      "        9.13680e+01, 5.73000e-01],\n",
      "       [3.40000e+01, 1.25000e-01, 5.69000e-01, ..., 1.35000e-01,\n",
      "        9.10020e+01, 5.00000e-01],\n",
      "       ...,\n",
      "       [7.50000e+01, 1.71000e-01, 5.87000e-01, ..., 4.20000e-01,\n",
      "        9.80080e+01, 3.81000e-01],\n",
      "       [5.50000e+01, 4.74000e-01, 5.14000e-01, ..., 3.87000e-01,\n",
      "        1.67655e+02, 6.99000e-01],\n",
      "       [7.20000e+01, 1.57000e-01, 7.09000e-01, ..., 5.50000e-02,\n",
      "        1.22043e+02, 1.13000e-01]])]\n",
      "[array(['Jazz', 'Jazz', 'Jazz', ..., 'Hip-Hop', 'Hip-Hop', 'Hip-Hop'],\n",
      "      dtype=object), array(['Jazz', 'Jazz', 'Jazz', ..., 'Hip-Hop', 'Hip-Hop', 'Hip-Hop'],\n",
      "      dtype=object), array(['Jazz', 'Jazz', 'Jazz', ..., 'Hip-Hop', 'Hip-Hop', 'Hip-Hop'],\n",
      "      dtype=object), array(['Jazz', 'Jazz', 'Jazz', ..., 'Hip-Hop', 'Hip-Hop', 'Hip-Hop'],\n",
      "      dtype=object)]\n",
      "4\n",
      "4\n",
      "4\n",
      "4\n"
     ]
    }
   ],
   "source": [
    "# Partition the training + validation data into training data and validation data\n",
    "\n",
    "N = len(dataset)\n",
    "number_of_folds = 4\n",
    "random_seed = 1\n",
    "np.random.seed(random_seed)\n",
    "folds = create_cv_folds(N, number_of_folds)  \n",
    "\n",
    "train_inputs = []\n",
    "train_targets = []\n",
    "validation_inputs = []\n",
    "validation_targets = []\n",
    "\n",
    "for i in range(number_of_folds):\n",
    "    train_inputs1, train_targets1, validation_inputs1, validation_targets1 = train_and_test_partition(inputs, targets, folds[i][0], folds[i][1])\n",
    "    train_inputs.append(train_inputs1)\n",
    "    train_targets.append(train_targets1)\n",
    "    validation_inputs.append(validation_inputs1)\n",
    "    validation_targets.append(validation_targets1)\n",
    "    \n",
    "print(train_inputs)\n",
    "print(train_targets)\n",
    "print(validation_inputs)\n",
    "print(validation_targets)\n",
    "\n",
    "# Their lengths should be the same as the number of folds\n",
    "\n",
    "print(len(train_inputs))\n",
    "print(len(train_targets))\n",
    "print(len(validation_inputs))\n",
    "print(len(validation_targets))"
   ]
  },
  {
   "cell_type": "code",
   "execution_count": 16,
   "id": "4f7606ae",
   "metadata": {},
   "outputs": [
    {
     "name": "stdout",
     "output_type": "stream",
     "text": [
      "[0.3160085000885426, 0.31698246856738094, 0.31977156012041785, 0.3181777935186825, 0.31596422879404995, 0.3142819196033292, 0.31361785018593946, 0.31282096688507177, 0.3157428723215867, 0.3176908092792633, 0.3192403045865061, 0.31826633610766775, 0.31963874623694, 0.32189658225606516, 0.32065698601027093, 0.3218523109615725, 0.32326899238533735, 0.32065698601027093, 0.32380024791924916, 0.32260492296794757, 0.3245528599256242, 0.3245528599256242, 0.3242872321586683, 0.3236674340357712, 0.3260580839383743, 0.3260580839383743, 0.3255268284044625, 0.32543828581547724, 0.3265450681777935, 0.3246414025146095, 0.3248184876925801, 0.3238445192137418, 0.32357889144678587, 0.32477421639808746, 0.3258809987604037, 0.3256596422879405, 0.3277846644235877, 0.32884717549141135, 0.32796174960155833, 0.3273862227731538, 0.32955551620329376, 0.3292013458473526, 0.32867009031344074, 0.3292456171418452, 0.32751903665663185, 0.32902426066938195, 0.33066229856561, 0.33154772445546304, 0.33101646892155123, 0.32902426066938195]\n"
     ]
    }
   ],
   "source": [
    "# KNN model\n",
    "from sklearn.neighbors import KNeighborsClassifier\n",
    "#class sklearn.neighbors.KNeighborsClassifier(n_neighbors=5, *, weights='uniform', algorithm='auto', \n",
    "#                       leaf_size=30, p=2, metric='minkowski', metric_params=None, n_jobs=None)\n",
    "\n",
    "#Here we change different K-value from 1 to 100 to get a set of accuracy and comparing among them\n",
    "\n",
    "\n",
    "mean_accuracies_knn = []\n",
    "k_value = [n for n in range(1,101) if n%2 == 0]\n",
    "# Here we only use the odd K-value\n",
    "\n",
    "for k in k_value:\n",
    "    accuracy = []\n",
    "    for i in range(number_of_folds):\n",
    "        Knn = KNeighborsClassifier(n_neighbors = k)\n",
    "        Knn.fit(train_inputs[i], train_targets[i])\n",
    "        predict_targets = Knn.predict(validation_inputs[i])\n",
    "        accuracy_i = accuracy_score(validation_targets[i], predict_targets)\n",
    "        accuracy.append(accuracy_i)\n",
    "    mean_accuracy_fold = np.mean(accuracy)\n",
    "    mean_accuracies_knn.append(mean_accuracy_fold)\n",
    "\n",
    "print(mean_accuracies_knn)\n"
   ]
  },
  {
   "cell_type": "code",
   "execution_count": 17,
   "id": "490788c1",
   "metadata": {},
   "outputs": [
    {
     "data": {
      "image/png": "[encoded data removed]",
      "text/plain": [
       "<Figure size 432x288 with 1 Axes>"
      ]
     },
     "metadata": {
      "needs_background": "light"
     },
     "output_type": "display_data"
    }
   ],
   "source": [
    "#Plot\n",
    "\n",
    "plt.figure()\n",
    "plt.plot(k_value, mean_accuracies_knn, '-')\n",
    "plt.xlabel('K-value')\n",
    "plt.ylabel('accuracy')\n",
    "plt.title('Accuracy and K-value')"
   ]
  },
  {
   "cell_type": "code",
   "execution_count": 18,
   "id": "b23d4bf3",
   "metadata": {},
   "outputs": [
    {
     "name": "stdout",
     "output_type": "stream",
     "text": [
      "0.32360545422348147\n",
      "(0.3226320143840755, 0.3245788940628874)\n"
     ]
    }
   ],
   "source": [
    "# Calculate the confidence interval\n",
    "interval = stats.t.interval(0.95, 100 - 1, np.mean(mean_accuracies_knn), np.std(mean_accuracies_knn, ddof=1) / (100**(1/2)))\n",
    "print(np.mean(mean_accuracies_knn))\n",
    "print(interval) "
   ]
  },
  {
   "cell_type": "code",
   "execution_count": 26,
   "id": "222a2a66",
   "metadata": {},
   "outputs": [
    {
     "name": "stdout",
     "output_type": "stream",
     "text": [
      "best k value is 95, worst k value is 15\n"
     ]
    }
   ],
   "source": [
    "best_knn_index = np.argmax(np.array(mean_accuracies_knn)) \n",
    "best_k_value = (best_knn_index +1) *2 -1\n",
    "worst_knn_index = np.argmin(np.array(mean_accuracies_knn))\n",
    "worst_k_value = (worst_knn_index+1) *2 -1\n",
    "print(f\"best k value is {best_k_value}, worst k value is {worst_k_value}\")"
   ]
  },
  {
   "cell_type": "code",
   "execution_count": 20,
   "id": "3d01d41a",
   "metadata": {},
   "outputs": [
    {
     "name": "stdout",
     "output_type": "stream",
     "text": [
      "0.3203729767769177\n"
     ]
    }
   ],
   "source": [
    "# Invoke function again with the best n_estimator\n",
    "Knn2 = KNeighborsClassifier(n_neighbors = best_k_value)\n",
    "Knn2.fit(train_validation_inputs, train_validation_targets) \n",
    "Knn2_predict_targets = Knn2.predict(test_inputs)\n",
    "Knn2_accuracy = accuracy_score(test_targets, Knn2_predict_targets)\n",
    "print(Knn2_accuracy)"
   ]
  }
 ],
 "metadata": {
  "kernelspec": {
   "display_name": "Python 3 (ipykernel)",
   "language": "python",
   "name": "python3"
  },
  "language_info": {
   "codemirror_mode": {
    "name": "ipython",
    "version": 3
   },
   "file_extension": ".py",
   "mimetype": "text/x-python",
   "name": "python",
   "nbconvert_exporter": "python",
   "pygments_lexer": "ipython3",
   "version": "3.9.12"
  }
 },
 "nbformat": 4,
 "nbformat_minor": 5
}
