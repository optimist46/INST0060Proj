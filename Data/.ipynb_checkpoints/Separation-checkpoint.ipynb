{
 "cells": [
  {
   "cell_type": "code",
   "execution_count": null,
   "id": "46845d89",
   "metadata": {},
   "outputs": [],
   "source": [
    "import csv\n",
    "import os\n",
    "\n",
    "\n",
    "data_num = 114000\n",
    "with open(\"Data/Processed_full_data.csv\", newline='') as file:\n",
    "    data_whole = csv.reader(file)\n",
    "    n = 0\n",
    "    for row in data_whole:\n",
    "        if n == 0:\n",
    "            row_header = row\n",
    "            n += 1        \n",
    "        elif 0 < n <= 0.7*data_num:\n",
    "            data_train_path = os.path.join(folder_path, \"Processed_data_training.csv\")\n",
    "            if not os.path.exists(data_train_path):\n",
    "                with open(data_train_path, 'w', newline='') as file:\n",
    "                    line = csv.writer(file)\n",
    "                    line.writerow(row_header)\n",
    "                    line.writerow(row)\n",
    "                n += 1\n",
    "            else:\n",
    "                with open(data_train_path, 'a', newline='') as file:\n",
    "                    line = csv.writer(file)\n",
    "                    line.writerow(row)\n",
    "                n += 1\n",
    "        elif 0.7*data_num < n <= data_num:\n",
    "            data_test_path = os.path.join(folder_path, \"Processed_data_test.csv\")\n",
    "            if not os.path.exists(data_test_path):\n",
    "                with open(data_test_path, 'w', newline='') as file:\n",
    "                    line = csv.writer(file)\n",
    "                    line.writerow(row_header)\n",
    "                    line.writerow(row)\n",
    "                n += 1\n",
    "            else:\n",
    "                with open(data_test_path, 'a', newline='') as file:\n",
    "                    line = csv.writer(file)\n",
    "                    line.writerow(row)\n",
    "                n += 1\n",
    "        elif n > data_num:\n",
    "            break\n",
    "\n",
    "print(\"Down\")"
   ]
  },
  {
   "cell_type": "code",
   "execution_count": null,
   "id": "db9c1a6d",
   "metadata": {},
   "outputs": [],
   "source": []
  }
 ],
 "metadata": {
  "kernelspec": {
   "display_name": "Python 3 (ipykernel)",
   "language": "python",
   "name": "python3"
  },
  "language_info": {
   "codemirror_mode": {
    "name": "ipython",
    "version": 3
   },
   "file_extension": ".py",
   "mimetype": "text/x-python",
   "name": "python",
   "nbconvert_exporter": "python",
   "pygments_lexer": "ipython3",
   "version": "3.9.2"
  }
 },
 "nbformat": 4,
 "nbformat_minor": 5
}
