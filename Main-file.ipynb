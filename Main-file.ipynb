{
 "cells": [
  {
   "cell_type": "markdown",
   "id": "6ace48f1",
   "metadata": {},
   "source": [
    "# INST0060: Code-base main\n",
    "\n",
    "Follow the below notebook to compile the project"
   ]
  },
  {
   "cell_type": "markdown",
   "id": "a0557e88",
   "metadata": {},
   "source": [
    "### Importing\n",
    "\n",
    "Importing the custom written libraries and others neccesary to run the notebook and the dataset"
   ]
  },
  {
   "cell_type": "code",
   "execution_count": 12,
   "id": "0423a694",
   "metadata": {},
   "outputs": [],
   "source": [
    "#custom libraries\n",
    "\n",
    "import logreg\n",
    "import knn\n",
    "import randfor\n",
    "import use_for_models as ufm\n",
    "import fomlads.evaluate.eval_regression as fomlads\n",
    "\n",
    "#import pandas and numpy\n",
    "\n",
    "import pandas as pd\n",
    "import numpy as np\n",
    "\n",
    "#import sklearn libraries\n",
    "\n",
    "from sklearn.metrics import accuracy_score\n",
    "\n"
   ]
  },
  {
   "cell_type": "code",
   "execution_count": 2,
   "id": "1e0b4a73",
   "metadata": {},
   "outputs": [],
   "source": [
    "#read the dataset\n",
    "dataset = pd.read_csv('Data/Used Dataset.csv')"
   ]
  },
  {
   "cell_type": "markdown",
   "id": "d1868c52",
   "metadata": {},
   "source": [
    "### Partition the dataset into inputs, targets + training, validating folds + testing"
   ]
  },
  {
   "cell_type": "code",
   "execution_count": 3,
   "id": "f0a9de5d",
   "metadata": {},
   "outputs": [],
   "source": [
    "# Produce inputs and targets from dataset\n",
    "\n",
    "inputs = dataset.iloc[:, 0:-1].to_numpy()\n",
    "targets = dataset['track_genre'].to_numpy()\n"
   ]
  },
  {
   "cell_type": "code",
   "execution_count": 4,
   "id": "8cb52114",
   "metadata": {},
   "outputs": [],
   "source": [
    "# Split the dataset into training + validation data and testing data\n",
    "\n",
    "train_filter, test_filter = fomlads.train_and_test_filter(len(dataset))\n",
    "\n",
    "train_validation_inputs, train_validation_targets, test_inputs, test_targets = fomlads.train_and_test_partition(inputs, targets, train_filter, test_filter)\n"
   ]
  },
  {
   "cell_type": "code",
   "execution_count": 19,
   "id": "45059aad",
   "metadata": {},
   "outputs": [],
   "source": [
    "# Partition the training + validation data into training data and validation data\n",
    "\n",
    "number_of_folds = 4 #specify number of folds on training dataset\n",
    "random_seed = 2023 #set random seed to ensure reproducability\n",
    "    \n",
    "train_inputs, train_targets, validation_inputs, validation_targets = ufm.train_and_validation_inputs_targets(inputs,targets, number_of_folds, random_seed)\n"
   ]
  },
  {
   "cell_type": "markdown",
   "id": "df468eec",
   "metadata": {},
   "source": [
    "## Train models (sum of expected runtime ~4 mins) "
   ]
  },
  {
   "cell_type": "code",
   "execution_count": 6,
   "id": "49855979",
   "metadata": {},
   "outputs": [],
   "source": [
    "#random forest - calculating best n estimator\n",
    "\n",
    "best_n = randfor.random_forest_n_estimator(train_inputs,train_targets, validation_inputs, \n",
    "                                           validation_targets, number_of_folds)\n",
    "\n"
   ]
  },
  {
   "cell_type": "code",
   "execution_count": 7,
   "id": "627876b3",
   "metadata": {},
   "outputs": [],
   "source": [
    "#knn means - calculating best k value\n",
    "\n",
    "best_k = knn.knn_k_value(train_inputs, train_targets, \n",
    "                         validation_inputs, validation_targets, number_of_folds)"
   ]
  },
  {
   "cell_type": "code",
   "execution_count": 14,
   "id": "e8799512",
   "metadata": {},
   "outputs": [],
   "source": [
    "\n",
    "#logistic regression - calculating best lamda\n",
    "\n",
    "best_lambda = logreg.logistic_regression_best_lamda(train_inputs, train_targets, \n",
    "                                                    validation_inputs, validation_targets, number_of_folds)"
   ]
  },
  {
   "cell_type": "markdown",
   "id": "959b4664",
   "metadata": {},
   "source": [
    "### Refitting"
   ]
  },
  {
   "cell_type": "code",
   "execution_count": 15,
   "id": "ec49094f",
   "metadata": {},
   "outputs": [],
   "source": [
    "#refit the models\n",
    "\n",
    "random_forest_model = randfor.test_rand_for(train_validation_inputs, train_validation_targets, best_n)\n",
    "\n",
    "knn_model = knn.test_knn(train_validation_inputs, train_validation_targets, best_k)\n",
    "\n",
    "logistic_regression_model = logreg.test_log_reg(train_validation_inputs,train_validation_targets, best_lambda)"
   ]
  },
  {
   "cell_type": "markdown",
   "id": "18be72fc",
   "metadata": {},
   "source": [
    "### Make predictions on unseen data"
   ]
  },
  {
   "cell_type": "code",
   "execution_count": 16,
   "id": "be7e55d3",
   "metadata": {},
   "outputs": [],
   "source": [
    "#run models on test data\n",
    "predict_targets = [0,0,0]\n",
    "\n",
    "predict_targets[0] = random_forest_model.predict(test_inputs)\n",
    "predict_targets[1] = knn_model.predict(test_inputs)\n",
    "predict_targets[2] = logistic_regression_model.predict(test_inputs)"
   ]
  },
  {
   "cell_type": "markdown",
   "id": "9fd53292",
   "metadata": {},
   "source": [
    "### Accuracy (this is to be made more comprehensive)"
   ]
  },
  {
   "cell_type": "code",
   "execution_count": 17,
   "id": "0e49d7a7",
   "metadata": {},
   "outputs": [
    {
     "name": "stdout",
     "output_type": "stream",
     "text": [
      "0.7980760744859235\n",
      "0.3310387432706734\n",
      "0.47842202806460155\n"
     ]
    }
   ],
   "source": [
    "#print accuracies\n",
    "\n",
    "for i in range(3):\n",
    "   print(accuracy_score(test_targets, predict_targets[i]))\n"
   ]
  },
  {
   "cell_type": "code",
   "execution_count": null,
   "id": "02c59431",
   "metadata": {},
   "outputs": [],
   "source": []
  },
  {
   "cell_type": "code",
   "execution_count": null,
   "id": "60ce7927",
   "metadata": {},
   "outputs": [],
   "source": []
  },
  {
   "cell_type": "code",
   "execution_count": null,
   "id": "6e4e64aa",
   "metadata": {},
   "outputs": [],
   "source": []
  }
 ],
 "metadata": {
  "kernelspec": {
   "display_name": "Python 3 (ipykernel)",
   "language": "python",
   "name": "python3"
  },
  "language_info": {
   "codemirror_mode": {
    "name": "ipython",
    "version": 3
   },
   "file_extension": ".py",
   "mimetype": "text/x-python",
   "name": "python",
   "nbconvert_exporter": "python",
   "pygments_lexer": "ipython3",
   "version": "3.9.2"
  }
 },
 "nbformat": 4,
 "nbformat_minor": 5
}
