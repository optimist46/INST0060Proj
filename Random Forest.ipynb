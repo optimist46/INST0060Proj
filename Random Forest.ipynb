{
 "cells": [
  {
   "cell_type": "code",
   "execution_count": 36,
   "id": "f9a9aae6",
   "metadata": {},
   "outputs": [],
   "source": [
    "import sklearn\n",
    "import numpy as np\n",
    "import pandas as pd\n",
    "import scipy.stats as stats\n",
    "import matplotlib.pyplot as plt\n",
    "\n",
    "from sklearn.linear_model import LogisticRegression\n",
    "from sklearn.metrics import accuracy_score\n",
    "\n",
    "from fomlads.evaluate.eval_regression import train_and_test_partition\n",
    "from fomlads.evaluate.eval_regression import train_and_test_filter\n",
    "from fomlads.evaluate.eval_regression import create_cv_folds"
   ]
  },
  {
   "cell_type": "code",
   "execution_count": 37,
   "id": "62bb01de",
   "metadata": {},
   "outputs": [],
   "source": [
    "dataset = pd.read_csv('./Data/Used Dataset.csv')"
   ]
  },
  {
   "cell_type": "code",
   "execution_count": 38,
   "id": "eaf56247",
   "metadata": {},
   "outputs": [
    {
     "name": "stdout",
     "output_type": "stream",
     "text": [
      "[[4.40000e+01 6.21000e-03 7.11000e-01 ... 3.82000e-02 1.42065e+02\n",
      "  6.07000e-01]\n",
      " [3.40000e+01 3.47000e-01 7.29000e-01 ... 1.84000e-01 7.99690e+01\n",
      "  2.87000e-01]\n",
      " [3.90000e+01 9.18000e-01 4.84000e-01 ... 3.46000e-02 8.27070e+01\n",
      "  2.06000e-01]\n",
      " ...\n",
      " [5.10000e+01 5.97000e-03 6.93000e-01 ... 1.46000e-01 1.31079e+02\n",
      "  3.95000e-01]\n",
      " [6.50000e+01 8.31000e-02 7.82000e-01 ... 4.41000e-02 7.58860e+01\n",
      "  3.54000e-01]\n",
      " [6.70000e+01 1.02000e-01 8.62000e-01 ... 1.01000e-01 9.92010e+01\n",
      "  7.65000e-01]]\n",
      "['Jazz' 'Jazz' 'Jazz' ... 'Hip-Hop' 'Hip-Hop' 'Hip-Hop']\n"
     ]
    }
   ],
   "source": [
    "# Produce inputs and target from dataset\n",
    "\n",
    "number_of_columns = 14\n",
    "inputs = dataset.iloc[:, 0:13].to_numpy()\n",
    "targets = dataset['track_genre'].to_numpy()\n",
    "print(inputs)\n",
    "print(targets)"
   ]
  },
  {
   "cell_type": "code",
   "execution_count": 39,
   "id": "76e9912e",
   "metadata": {},
   "outputs": [],
   "source": [
    "# Split the dataset into training + validation data and testing data\n",
    "\n",
    "train_filter, test_filter = train_and_test_filter(len(dataset))\n",
    "\n",
    "train_validation_inputs, train_validation_targets, test_inputs, test_targets = train_and_test_partition(inputs, targets, train_filter, test_filter)"
   ]
  },
  {
   "cell_type": "code",
   "execution_count": 40,
   "id": "3843da98",
   "metadata": {},
   "outputs": [
    {
     "name": "stdout",
     "output_type": "stream",
     "text": [
      "[array([[4.40000e+01, 6.21000e-03, 7.11000e-01, ..., 3.82000e-02,\n",
      "        1.42065e+02, 6.07000e-01],\n",
      "       [3.40000e+01, 3.47000e-01, 7.29000e-01, ..., 1.84000e-01,\n",
      "        7.99690e+01, 2.87000e-01],\n",
      "       [3.60000e+01, 3.45000e-02, 4.73000e-01, ..., 6.30000e-02,\n",
      "        1.04694e+02, 3.83000e-01],\n",
      "       ...,\n",
      "       [5.90000e+01, 3.34000e-02, 9.13000e-01, ..., 2.98000e-01,\n",
      "        9.80280e+01, 3.30000e-01],\n",
      "       [7.20000e+01, 1.57000e-01, 7.09000e-01, ..., 5.50000e-02,\n",
      "        1.22043e+02, 1.13000e-01],\n",
      "       [6.50000e+01, 8.31000e-02, 7.82000e-01, ..., 4.41000e-02,\n",
      "        7.58860e+01, 3.54000e-01]]), array([[3.90000e+01, 9.18000e-01, 4.84000e-01, ..., 3.46000e-02,\n",
      "        8.27070e+01, 2.06000e-01],\n",
      "       [3.60000e+01, 3.45000e-02, 4.73000e-01, ..., 6.30000e-02,\n",
      "        1.04694e+02, 3.83000e-01],\n",
      "       [6.30000e+01, 6.99000e-01, 5.80000e-01, ..., 2.69000e-02,\n",
      "        9.30370e+01, 3.64000e-01],\n",
      "       ...,\n",
      "       [5.10000e+01, 5.97000e-03, 6.93000e-01, ..., 1.46000e-01,\n",
      "        1.31079e+02, 3.95000e-01],\n",
      "       [6.50000e+01, 8.31000e-02, 7.82000e-01, ..., 4.41000e-02,\n",
      "        7.58860e+01, 3.54000e-01],\n",
      "       [6.70000e+01, 1.02000e-01, 8.62000e-01, ..., 1.01000e-01,\n",
      "        9.92010e+01, 7.65000e-01]]), array([[4.40000e+01, 6.21000e-03, 7.11000e-01, ..., 3.82000e-02,\n",
      "        1.42065e+02, 6.07000e-01],\n",
      "       [3.40000e+01, 3.47000e-01, 7.29000e-01, ..., 1.84000e-01,\n",
      "        7.99690e+01, 2.87000e-01],\n",
      "       [3.90000e+01, 9.18000e-01, 4.84000e-01, ..., 3.46000e-02,\n",
      "        8.27070e+01, 2.06000e-01],\n",
      "       ...,\n",
      "       [7.20000e+01, 1.57000e-01, 7.09000e-01, ..., 5.50000e-02,\n",
      "        1.22043e+02, 1.13000e-01],\n",
      "       [5.10000e+01, 5.97000e-03, 6.93000e-01, ..., 1.46000e-01,\n",
      "        1.31079e+02, 3.95000e-01],\n",
      "       [6.70000e+01, 1.02000e-01, 8.62000e-01, ..., 1.01000e-01,\n",
      "        9.92010e+01, 7.65000e-01]]), array([[4.40000e+01, 6.21000e-03, 7.11000e-01, ..., 3.82000e-02,\n",
      "        1.42065e+02, 6.07000e-01],\n",
      "       [3.40000e+01, 3.47000e-01, 7.29000e-01, ..., 1.84000e-01,\n",
      "        7.99690e+01, 2.87000e-01],\n",
      "       [3.90000e+01, 9.18000e-01, 4.84000e-01, ..., 3.46000e-02,\n",
      "        8.27070e+01, 2.06000e-01],\n",
      "       ...,\n",
      "       [5.10000e+01, 5.97000e-03, 6.93000e-01, ..., 1.46000e-01,\n",
      "        1.31079e+02, 3.95000e-01],\n",
      "       [6.50000e+01, 8.31000e-02, 7.82000e-01, ..., 4.41000e-02,\n",
      "        7.58860e+01, 3.54000e-01],\n",
      "       [6.70000e+01, 1.02000e-01, 8.62000e-01, ..., 1.01000e-01,\n",
      "        9.92010e+01, 7.65000e-01]])]\n",
      "[array(['Jazz', 'Jazz', 'Jazz', ..., 'Hip-Hop', 'Hip-Hop', 'Hip-Hop'],\n",
      "      dtype=object), array(['Jazz', 'Jazz', 'Jazz', ..., 'Hip-Hop', 'Hip-Hop', 'Hip-Hop'],\n",
      "      dtype=object), array(['Jazz', 'Jazz', 'Jazz', ..., 'Hip-Hop', 'Hip-Hop', 'Hip-Hop'],\n",
      "      dtype=object), array(['Jazz', 'Jazz', 'Jazz', ..., 'Hip-Hop', 'Hip-Hop', 'Hip-Hop'],\n",
      "      dtype=object)]\n",
      "[array([[3.90000e+01, 9.18000e-01, 4.84000e-01, ..., 3.46000e-02,\n",
      "        8.27070e+01, 2.06000e-01],\n",
      "       [4.20000e+01, 1.51000e-01, 7.79000e-01, ..., 4.12000e-02,\n",
      "        9.10350e+01, 3.58000e-01],\n",
      "       [4.50000e+01, 3.72000e-02, 3.94000e-01, ..., 1.59000e-01,\n",
      "        8.55530e+01, 3.98000e-01],\n",
      "       ...,\n",
      "       [5.70000e+01, 3.63000e-02, 8.29000e-01, ..., 5.15000e-02,\n",
      "        1.03816e+02, 5.94000e-01],\n",
      "       [5.10000e+01, 5.97000e-03, 6.93000e-01, ..., 1.46000e-01,\n",
      "        1.31079e+02, 3.95000e-01],\n",
      "       [6.70000e+01, 1.02000e-01, 8.62000e-01, ..., 1.01000e-01,\n",
      "        9.92010e+01, 7.65000e-01]]), array([[4.40000e+01, 6.21000e-03, 7.11000e-01, ..., 3.82000e-02,\n",
      "        1.42065e+02, 6.07000e-01],\n",
      "       [3.40000e+01, 3.47000e-01, 7.29000e-01, ..., 1.84000e-01,\n",
      "        7.99690e+01, 2.87000e-01],\n",
      "       [5.30000e+01, 5.01000e-01, 9.21000e-01, ..., 2.13000e-01,\n",
      "        1.23043e+02, 7.61000e-01],\n",
      "       ...,\n",
      "       [5.40000e+01, 3.04000e-01, 6.42000e-01, ..., 2.15000e-01,\n",
      "        8.95960e+01, 2.76000e-01],\n",
      "       [5.60000e+01, 1.33000e-01, 8.49000e-01, ..., 5.16000e-02,\n",
      "        9.99880e+01, 6.29000e-01],\n",
      "       [5.90000e+01, 3.34000e-02, 9.13000e-01, ..., 2.98000e-01,\n",
      "        9.80280e+01, 3.30000e-01]]), array([[6.30000e+01, 6.99000e-01, 5.80000e-01, ..., 2.69000e-02,\n",
      "        9.30370e+01, 3.64000e-01],\n",
      "       [4.20000e+01, 7.88000e-02, 7.05000e-01, ..., 3.15000e-02,\n",
      "        1.15126e+02, 6.68000e-01],\n",
      "       [4.80000e+01, 7.29000e-03, 4.40000e-01, ..., 8.36000e-02,\n",
      "        1.69765e+02, 7.39000e-01],\n",
      "       ...,\n",
      "       [5.10000e+01, 1.95000e-01, 6.30000e-01, ..., 1.20000e-01,\n",
      "        1.58006e+02, 4.46000e-01],\n",
      "       [6.20000e+01, 1.06000e-02, 9.44000e-01, ..., 6.40000e-02,\n",
      "        1.07992e+02, 7.05000e-01],\n",
      "       [6.50000e+01, 8.31000e-02, 7.82000e-01, ..., 4.41000e-02,\n",
      "        7.58860e+01, 3.54000e-01]]), array([[3.60000e+01, 3.45000e-02, 4.73000e-01, ..., 6.30000e-02,\n",
      "        1.04694e+02, 3.83000e-01],\n",
      "       [3.90000e+01, 4.95000e-01, 6.56000e-01, ..., 3.48000e-02,\n",
      "        9.13680e+01, 5.73000e-01],\n",
      "       [3.40000e+01, 1.25000e-01, 5.69000e-01, ..., 1.35000e-01,\n",
      "        9.10020e+01, 5.00000e-01],\n",
      "       ...,\n",
      "       [7.50000e+01, 1.71000e-01, 5.87000e-01, ..., 4.20000e-01,\n",
      "        9.80080e+01, 3.81000e-01],\n",
      "       [5.50000e+01, 4.74000e-01, 5.14000e-01, ..., 3.87000e-01,\n",
      "        1.67655e+02, 6.99000e-01],\n",
      "       [7.20000e+01, 1.57000e-01, 7.09000e-01, ..., 5.50000e-02,\n",
      "        1.22043e+02, 1.13000e-01]])]\n",
      "[array(['Jazz', 'Jazz', 'Jazz', ..., 'Hip-Hop', 'Hip-Hop', 'Hip-Hop'],\n",
      "      dtype=object), array(['Jazz', 'Jazz', 'Jazz', ..., 'Hip-Hop', 'Hip-Hop', 'Hip-Hop'],\n",
      "      dtype=object), array(['Jazz', 'Jazz', 'Jazz', ..., 'Hip-Hop', 'Hip-Hop', 'Hip-Hop'],\n",
      "      dtype=object), array(['Jazz', 'Jazz', 'Jazz', ..., 'Hip-Hop', 'Hip-Hop', 'Hip-Hop'],\n",
      "      dtype=object)]\n",
      "4\n",
      "4\n",
      "4\n",
      "4\n"
     ]
    }
   ],
   "source": [
    "# Partition the training + validation data into training data and validation data\n",
    "\n",
    "N = len(dataset)\n",
    "number_of_folds = 4\n",
    "random_seed = 1\n",
    "np.random.seed(random_seed)\n",
    "folds = create_cv_folds(N, number_of_folds)  \n",
    "\n",
    "train_inputs = []\n",
    "train_targets = []\n",
    "validation_inputs = []\n",
    "validation_targets = []\n",
    "\n",
    "for i in range(number_of_folds):\n",
    "    train_inputs1, train_targets1, validation_inputs1, validation_targets1 = train_and_test_partition(inputs, targets, folds[i][0], folds[i][1])\n",
    "    train_inputs.append(train_inputs1)\n",
    "    train_targets.append(train_targets1)\n",
    "    validation_inputs.append(validation_inputs1)\n",
    "    validation_targets.append(validation_targets1)\n",
    "    \n",
    "print(train_inputs)\n",
    "print(train_targets)\n",
    "print(validation_inputs)\n",
    "print(validation_targets)\n",
    "\n",
    "# Their lengths should be the same as the number of folds\n",
    "\n",
    "print(len(train_inputs))\n",
    "print(len(train_targets))\n",
    "print(len(validation_inputs))\n",
    "print(len(validation_targets))"
   ]
  },
  {
   "cell_type": "code",
   "execution_count": 41,
   "id": "61ac82fb",
   "metadata": {},
   "outputs": [
    {
     "name": "stdout",
     "output_type": "stream",
     "text": [
      "[0.6796971843456702, 0.670223127324243, 0.7271117407472996, 0.7426066938197273, 0.7530989906144856, 0.7619975208075084, 0.7698778112272002, 0.7724012750132814, 0.7754559943332743, 0.7770054896405171, 0.7807685496723924, 0.7843102532318045, 0.7851514078271649, 0.785638392066584, 0.7860368337170179, 0.7866566318399151, 0.791615016823092, 0.7872764299628121, 0.7928988843633787, 0.7898441650433858, 0.7927217991854081, 0.7921462723570037, 0.7936957676642465, 0.7946697361430849, 0.7930316982468567, 0.7935629537807686, 0.7932973260138128, 0.7947582787320702, 0.7948468213210554, 0.7968390295732247, 0.7980343545245263, 0.7958650610943864, 0.7949353639100407, 0.7981671684080042, 0.7972374712236586, 0.7975030989906144, 0.7975916415795998, 0.7974588276961219, 0.7986098813529308, 0.7980343545245263, 0.8002921905436515, 0.7995838498317691, 0.7990525942978572, 0.7982999822914822, 0.7986098813529308, 0.7991854081813352, 0.799982291482203, 0.7994067646537985, 0.8025942978572693, 0.8006463608995926]\n"
     ]
    }
   ],
   "source": [
    "# Random Forest\n",
    "from sklearn.ensemble import RandomForestClassifier\n",
    "\n",
    "#RandomForestClassifier(n_estimators=100, criterion='gini', max_depth=None, min_samples_split=2, min_samples_leaf=1, \n",
    "#                             min_weight_fraction_leaf=0.0, max_features='sqrt', max_leaf_nodes=None, min_impurity_decrease=0.0, \n",
    "#                             bootstrap=True, oob_score=False, n_jobs=None, random_state=None, verbose=0, warm_start=False, \n",
    "#                             class_weight=None, ccp_alpha=0.0, max_samples=None)\n",
    "\n",
    "# Here we only discuss the parameter: n_estimator\n",
    "# n_estimator: number of the tree (from 1 to 50)\n",
    "list_n_estimators = [n+1 for n in range(50)]\n",
    "mean_accuracies_rf = []\n",
    "\n",
    "for parameter in list_n_estimators:\n",
    "    accuracy_fold = []\n",
    "    for i in range(number_of_folds):\n",
    "        Mod_rf = RandomForestClassifier(n_estimators=parameter)\n",
    "        Mod_rf.fit(train_inputs[i], train_targets[i])\n",
    "        predict_targets = Mod_rf.predict(validation_inputs[i])\n",
    "        accuracy_for_fold_i = accuracy_score(validation_targets[i], predict_targets)\n",
    "        accuracy_fold.append(accuracy_for_fold_i)\n",
    "    mean_accuracy_fold = np.mean(accuracy_fold)\n",
    "    mean_accuracies_rf.append(mean_accuracy_fold)\n",
    "\n",
    "print(mean_accuracies_rf)"
   ]
  },
  {
   "cell_type": "code",
   "execution_count": 42,
   "id": "e9011bfb",
   "metadata": {},
   "outputs": [
    {
     "data": {
      "text/plain": [
       "Text(0.5, 1.0, 'Accuracy and the corresponding n_estimator')"
      ]
     },
     "execution_count": 42,
     "metadata": {},
     "output_type": "execute_result"
    },
    {
     "data": {
      "image/png": "[encoded data removed]",
      "text/plain": [
       "<Figure size 432x288 with 1 Axes>"
      ]
     },
     "metadata": {
      "needs_background": "light"
     },
     "output_type": "display_data"
    }
   ],
   "source": [
    "# Plot the accuracies\n",
    "plt.figure()\n",
    "plt.plot(list_n_estimators, mean_accuracies_rf, '-')\n",
    "plt.xlabel('n_estimator')\n",
    "plt.ylabel('accuracy')\n",
    "plt.title('Accuracy and the corresponding n_estimator')"
   ]
  },
  {
   "cell_type": "code",
   "execution_count": 35,
   "id": "8648ad28",
   "metadata": {},
   "outputs": [],
   "source": [
    "#ma_rf_mean = np.mean(mean_accuracies_rf)\n",
    "#ma_rf_std = np.std(mean_accuracies_rf, ddof=1)\n",
    "#mean_accuracies_rf_normal = (np.array(mean_accuracies_rf) - ma_rf_mean) / ma_rf_std\n",
    "#plt.figure()\n",
    "#plt.plot(list_n_estimators, mean_accuracies_rf_normal, '-')"
   ]
  },
  {
   "cell_type": "code",
   "execution_count": 29,
   "id": "e731c6d5",
   "metadata": {},
   "outputs": [
    {
     "name": "stdout",
     "output_type": "stream",
     "text": [
      "48\n"
     ]
    }
   ],
   "source": [
    "# Find the highest accuracy and the corresponding n_estimator\n",
    "best_index = np.argmax(np.array(mean_accuracies_rf))\n",
    "best_n_estimator = best_index + 1\n",
    "print(best_n_estimator)"
   ]
  },
  {
   "cell_type": "code",
   "execution_count": 30,
   "id": "2ae25e66",
   "metadata": {},
   "outputs": [
    {
     "name": "stdout",
     "output_type": "stream",
     "text": [
      "0.7941073307611365\n"
     ]
    }
   ],
   "source": [
    "# Invoke function again with the best n_estimator\n",
    "Mod_rf2 = RandomForestClassifier(n_estimators=best_n_estimator)\n",
    "Mod_rf2.fit(train_validation_inputs, train_validation_targets) \n",
    "predict_targets2 = Mod_rf2.predict(test_inputs)\n",
    "accuracy = accuracy_score(test_targets, predict_targets2)\n",
    "print(accuracy)"
   ]
  },
  {
   "cell_type": "code",
   "execution_count": null,
   "id": "f9d9d282",
   "metadata": {},
   "outputs": [],
   "source": []
  }
 ],
 "metadata": {
  "kernelspec": {
   "display_name": "my_conda_env_py37",
   "language": "python",
   "name": "my_conda_env_py37"
  },
  "language_info": {
   "codemirror_mode": {
    "name": "ipython",
    "version": 3
   },
   "file_extension": ".py",
   "mimetype": "text/x-python",
   "name": "python",
   "nbconvert_exporter": "python",
   "pygments_lexer": "ipython3",
   "version": "3.7.9"
  }
 },
 "nbformat": 4,
 "nbformat_minor": 5
}
