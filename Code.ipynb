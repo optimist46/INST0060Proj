{
 "cells": [
  {
   "cell_type": "code",
   "execution_count": 1,
   "id": "cc7b8364",
   "metadata": {},
   "outputs": [],
   "source": [
    "import numpy as np\n",
    "import math\n",
    "import matplotlib\n",
    "import matplotlib.pyplot as plt\n",
    "\n",
    "import scipy.stats\n",
    "import pandas as pd\n",
    "from itertools import groupby\n",
    "import csv\n",
    "from sklearn import linear_model\n",
    "from fomlads.data.external import import_for_classification\n",
    "from fomlads.model.classification import project_data\n",
    "from fomlads.model.classification import maximum_separation_projection\n",
    "\n",
    "from fomlads.plot.exploratory import plot_scatter_array_classes\n",
    "from fomlads.plot.exploratory import plot_class_histograms"
   ]
  },
  {
   "cell_type": "code",
   "execution_count": 2,
   "id": "c11f91ab",
   "metadata": {},
   "outputs": [
    {
     "name": "stdout",
     "output_type": "stream",
     "text": [
      "dataframe.columns = Index(['popularity', 'acousticness', 'danceability', 'duration_ms', 'energy',\n",
      "       'instrumentalness', 'key', 'liveness', 'loudness', 'mode',\n",
      "       'speechiness', 'tempo', 'valence', 'track_genre'],\n",
      "      dtype='object')\n",
      "input_cols = Index(['popularity', 'acousticness', 'danceability', 'duration_ms', 'energy',\n",
      "       'instrumentalness', 'key', 'liveness', 'loudness', 'mode',\n",
      "       'speechiness', 'tempo', 'valence'],\n",
      "      dtype='object')\n",
      "classes = array(['Jazz', 'Country', 'Rock', 'Classical', 'Hip-Hop'], dtype=object)\n"
     ]
    }
   ],
   "source": [
    "data_source = '/Users/ash/Documents/Year 4/Foundations of Machine Learning/Project/New1_no question mark.csv'\n",
    "# For Mode: Minor = 0, Major = 1\n",
    "# A = 1, A# = 2, B = 3, C = 4, C# = 5, D = 6, D# = 7, E = 8, F = 9, F# = 10, G = 11, G# = 12\n",
    "inputs, targets, field_names, classes = import_for_classification(data_source)"
   ]
  },
  {
   "cell_type": "code",
   "execution_count": 3,
   "id": "0b7c6ae0",
   "metadata": {},
   "outputs": [
    {
     "data": {
      "text/plain": [
       "22588"
      ]
     },
     "execution_count": 3,
     "metadata": {},
     "output_type": "execute_result"
    }
   ],
   "source": [
    "len(inputs[:,0])"
   ]
  },
  {
   "cell_type": "code",
   "execution_count": 9,
   "id": "9e26717a",
   "metadata": {},
   "outputs": [
    {
     "name": "stdout",
     "output_type": "stream",
     "text": [
      "0.4849557522123894\n"
     ]
    },
    {
     "name": "stderr",
     "output_type": "stream",
     "text": [
      "/Users/ash/opt/anaconda3/lib/python3.9/site-packages/sklearn/linear_model/_logistic.py:814: ConvergenceWarning: lbfgs failed to converge (status=1):\n",
      "STOP: TOTAL NO. of ITERATIONS REACHED LIMIT.\n",
      "\n",
      "Increase the number of iterations (max_iter) or scale the data as shown in:\n",
      "    https://scikit-learn.org/stable/modules/preprocessing.html\n",
      "Please also refer to the documentation for alternative solver options:\n",
      "    https://scikit-learn.org/stable/modules/linear_model.html#logistic-regression\n",
      "  n_iter_i = _check_optimize_result(\n"
     ]
    }
   ],
   "source": [
    "train_filter = np.array([True if (i%2 == 0) else False for i in range(len(inputs[:,0]))])\n",
    "train_filter = np.random.choice([False, True], len(inputs[:,0]), p = [0.3, 0.7])\n",
    "test_filter = ~train_filter\n",
    "\n",
    "from fomlads.evaluate.eval_regression import train_and_test_partition\n",
    "inputs_train, targets_train, inputs_test, targets_test = train_and_test_partition(inputs, targets, train_filter, test_filter)\n",
    "\n",
    "from sklearn.linear_model import LogisticRegression\n",
    "reg = LogisticRegression()\n",
    "reg.fit(inputs_train, targets_train)\n",
    "prediction = reg.predict(inputs_test)\n",
    "accuracy = reg.score(inputs_test, targets_test)\n",
    "print(accuracy)"
   ]
  },
  {
   "cell_type": "code",
   "execution_count": 15,
   "id": "9f827d7c",
   "metadata": {},
   "outputs": [
    {
     "name": "stdout",
     "output_type": "stream",
     "text": [
      "0.3064896755162242\n"
     ]
    }
   ],
   "source": [
    "from sklearn import svm\n",
    "svc_rbf = svm.SVC(kernel = \"rbf\")\n",
    "svc_rbf.fit(inputs_train, targets_train)\n",
    "prediction1 = svc_rbf.predict(inputs_test)\n",
    "accuracy = svc_rbf.score(inputs_test, targets_test)\n",
    "print(accuracy)"
   ]
  },
  {
   "cell_type": "code",
   "execution_count": 24,
   "id": "96a41ce1",
   "metadata": {},
   "outputs": [],
   "source": [
    "# from sklearn import svm\n",
    "# svc_rbf = svm.LinearSVC(kernel = \"rbf\")\n",
    "# svm.LinearSVC.fit(X = inputs_train, y = targets_train)\n",
    "# prediction1 = svc_rbf.predict(inputs_test)\n",
    "# accuracy = svc_rbf.score(inputs_test, targets_test)\n",
    "# print(accuracy)"
   ]
  },
  {
   "cell_type": "code",
   "execution_count": null,
   "id": "2c7abc1f",
   "metadata": {},
   "outputs": [],
   "source": []
  }
 ],
 "metadata": {
  "kernelspec": {
   "display_name": "Python 3 (ipykernel)",
   "language": "python",
   "name": "python3"
  },
  "language_info": {
   "codemirror_mode": {
    "name": "ipython",
    "version": 3
   },
   "file_extension": ".py",
   "mimetype": "text/x-python",
   "name": "python",
   "nbconvert_exporter": "python",
   "pygments_lexer": "ipython3",
   "version": "3.9.12"
  }
 },
 "nbformat": 4,
 "nbformat_minor": 5
}
