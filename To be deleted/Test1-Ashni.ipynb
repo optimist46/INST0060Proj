{
 "cells": [
  {
   "cell_type": "markdown",
   "id": "a285e8b0",
   "metadata": {},
   "source": [
    "### Import a bunch of stuff to be used later"
   ]
  },
  {
   "cell_type": "code",
   "execution_count": 44,
   "id": "e9f58c46",
   "metadata": {},
   "outputs": [],
   "source": [
    "import numpy as np\n",
    "import math\n",
    "import matplotlib\n",
    "import matplotlib.pyplot as plt\n",
    "\n",
    "import scipy.stats\n",
    "import pandas as pd\n",
    "from itertools import groupby\n",
    "import csv\n",
    "from sklearn import linear_model\n",
    "from fomlads.data.external import import_for_classification\n",
    "from fomlads.model.classification import project_data\n",
    "from fomlads.model.classification import maximum_separation_projection\n",
    "\n",
    "from fomlads.plot.exploratory import plot_scatter_array_classes\n",
    "from fomlads.plot.exploratory import plot_class_histograms\n"
   ]
  },
  {
   "cell_type": "markdown",
   "id": "c577d62b",
   "metadata": {},
   "source": [
    "### Collect and read the training dataset"
   ]
  },
  {
   "cell_type": "code",
   "execution_count": 51,
   "id": "68a0c936",
   "metadata": {},
   "outputs": [],
   "source": [
    "#data_source_training = 'Data/Processed_full_data_training.csv'\n",
    "#inputs_train, targets_train, field_names, classes = import_for_classification(data_source_training)\n",
    "\n",
    "#print(len(classes))\n",
    "\n",
    "#data_source_testing = 'Data/Processed_full_data_test.csv'\n",
    "#inputs_test, targets_test, field_names, classes = import_for_classification(data_source_testing)\n",
    "\n",
    "#print(classes)\n",
    "\n",
    "#inputs_train.shape"
   ]
  },
  {
   "cell_type": "code",
   "execution_count": 67,
   "id": "8c7ccf54",
   "metadata": {},
   "outputs": [
    {
     "name": "stdout",
     "output_type": "stream",
     "text": [
      "dataframe.columns = Index(['popularity', 'duration_ms', 'explicit', 'danceability', 'energy',\n",
      "       'key', 'loudness', 'mode', 'speechiness', 'acousticness',\n",
      "       'instrumentalness', 'liveness', 'valence', 'tempo', 'time_signature',\n",
      "       'track_genre'],\n",
      "      dtype='object')\n",
      "input_cols = Index(['popularity', 'duration_ms', 'explicit', 'danceability', 'energy',\n",
      "       'key', 'loudness', 'mode', 'speechiness', 'acousticness',\n",
      "       'instrumentalness', 'liveness', 'valence', 'tempo', 'time_signature'],\n",
      "      dtype='object')\n",
      "classes = array(['classical', 'hip-hop', 'pop', 'r-n-b', 'edm', 'rock', 'acoustic',\n",
      "       'house', 'jazz'], dtype=object)\n"
     ]
    }
   ],
   "source": [
    "data_source = 'Data/nokpop-data.csv'\n",
    "inputs, targets, field_names, classes = import_for_classification(data_source)"
   ]
  },
  {
   "cell_type": "code",
   "execution_count": 68,
   "id": "48e45bdd",
   "metadata": {
    "scrolled": true
   },
   "outputs": [
    {
     "data": {
      "text/plain": [
       "9000"
      ]
     },
     "execution_count": 68,
     "metadata": {},
     "output_type": "execute_result"
    }
   ],
   "source": [
    "len(inputs[:,0])"
   ]
  },
  {
   "cell_type": "code",
   "execution_count": 69,
   "id": "1fbffc39",
   "metadata": {},
   "outputs": [
    {
     "name": "stdout",
     "output_type": "stream",
     "text": [
      "0.21449595290654894\n"
     ]
    }
   ],
   "source": [
    "#find_dataset = 'Data/sub-processed-data.csv'\n",
    "#dataset = pd.read_csv(find_dataset)\n",
    "\n",
    "## library(caTools)\n",
    "## split = sample.split(dataset$track_genre, SplitRatio = 2/5)\n",
    "## training_set = subset(dataset, split == TRUE)\n",
    "## test_set = subset(dataset, split == FALSE)\n",
    "## regressor = lm(formula = track_genre ~ popularity, data = training_set)\n",
    "## summary(regressor)\n",
    "\n",
    "## From unit 2, question 2.3b)\n",
    "train_filter = np.array([True if (i%2 == 0) else False for i in range(len(inputs[:,0]))])\n",
    "train_filter = np.random.choice([False, True], len(inputs[:,0]), p = [0.3, 0.7])\n",
    "test_filter = ~train_filter\n",
    "\n",
    "from fomlads.evaluate.eval_regression import train_and_test_partition\n",
    "inputs_train, targets_train, inputs_test, targets_test = train_and_test_partition(inputs, targets, train_filter, test_filter)\n",
    "\n",
    "## From website\n",
    "from sklearn.linear_model import LogisticRegression\n",
    "reg = LogisticRegression()\n",
    "reg.fit(inputs_train, targets_train) ##if not, try reg.fit(training values of popularity, training values of genre)\n",
    "prediction = reg.predict(inputs_test)\n",
    "accuracy = reg.score(inputs_test, targets_test) ## or accuracy = reg.score(prediction, targets_test)\n",
    "print(accuracy)\n",
    "\n",
    "## From stackoverflow\n",
    "from sklearn.metrics import accuracy_score\n",
    "prediction = reg.predict(inputs_test)\n",
    "score = accuracy_score(prediction, targets_test)"
   ]
  },
  {
   "cell_type": "code",
   "execution_count": 70,
   "id": "f4ff7658",
   "metadata": {},
   "outputs": [
    {
     "data": {
      "text/plain": [
       "2718"
      ]
     },
     "execution_count": 70,
     "metadata": {},
     "output_type": "execute_result"
    }
   ],
   "source": [
    "correct = 0\n",
    "correct_classes = [0 for i in range(120)]\n",
    "\n",
    "guess = 0\n",
    "guess_classes = [0 for i in range(120)]\n",
    "for i in range(len(inputs_test[:,0])):\n",
    "    pred = int(reg.predict(inputs_test[i].reshape(1, -1)))\n",
    "    actual = int(targets_test[i])\n",
    "    guess_classes[pred] += 1\n",
    "    #print(pred-actual)\n",
    "    guess+=1\n",
    "    if pred-actual==0:\n",
    "        correct+=1\n",
    "        correct_classes[pred]+=1\n",
    "        \n",
    "guess"
   ]
  },
  {
   "cell_type": "code",
   "execution_count": 71,
   "id": "79dd1da6",
   "metadata": {},
   "outputs": [
    {
     "name": "stdout",
     "output_type": "stream",
     "text": [
      "classical: 555/300 accuracy: 60.333%\n",
      "hip-hop: 138/300 accuracy: 0.667%\n",
      "pop: 791/300 accuracy: 58.333%\n",
      "r-n-b: 29/300 accuracy: 0.667%\n",
      "edm: 262/300 accuracy: 12.333%\n",
      "rock: 271/300 accuracy: 23.667%\n",
      "acoustic: 70/300 accuracy: 9.333%\n",
      "house: 199/300 accuracy: 1.667%\n",
      "jazz: 403/300 accuracy: 27.333%\n",
      "----------------\n",
      "21.450%\n"
     ]
    },
    {
     "data": {
      "text/plain": [
       "2718"
      ]
     },
     "execution_count": 71,
     "metadata": {},
     "output_type": "execute_result"
    }
   ],
   "source": [
    "guess = 0\n",
    "for i in range(len(classes)):\n",
    "    print(f\"{classes[i]}: {guess_classes[i]}/300 accuracy: {correct_classes[i]/300*100:.3f}%\")\n",
    "    guess+=guess_classes[i]\n",
    "    \n",
    "print(f\"----------------\")\n",
    "print(f\"{correct/len(inputs_test[:,0])*100:.3f}%\")\n",
    "guess"
   ]
  },
  {
   "cell_type": "code",
   "execution_count": null,
   "id": "224edc9f",
   "metadata": {},
   "outputs": [],
   "source": []
  }
 ],
 "metadata": {
  "kernelspec": {
   "display_name": "Python 3 (ipykernel)",
   "language": "python",
   "name": "python3"
  },
  "language_info": {
   "codemirror_mode": {
    "name": "ipython",
    "version": 3
   },
   "file_extension": ".py",
   "mimetype": "text/x-python",
   "name": "python",
   "nbconvert_exporter": "python",
   "pygments_lexer": "ipython3",
   "version": "3.9.2"
  }
 },
 "nbformat": 4,
 "nbformat_minor": 5
}
