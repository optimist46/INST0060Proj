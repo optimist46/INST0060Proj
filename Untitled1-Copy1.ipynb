{
 "cells": [
  {
   "cell_type": "code",
   "execution_count": 43,
   "id": "12f6d7a5",
   "metadata": {},
   "outputs": [],
   "source": [
    "import numpy as np # linear algebra\n",
    "import pandas as pd # data processing, CSV file I/O (e.g. pd.read_csv)\n",
    "from matplotlib import pyplot as plt\n",
    "\n",
    "from use_for_models import import_data, inputs_and_targets\n",
    "\n",
    "from fomlads.evaluate.eval_regression import train_and_test_partition"
   ]
  },
  {
   "cell_type": "code",
   "execution_count": 44,
   "id": "b433541b",
   "metadata": {},
   "outputs": [],
   "source": [
    "#import the full dataset\n",
    "filepath = 'Data/Used dataset.csv'\n",
    "dataset = import_data()\n",
    "headers = list(dataset.columns)"
   ]
  },
  {
   "cell_type": "code",
   "execution_count": 45,
   "id": "d09339fd",
   "metadata": {},
   "outputs": [],
   "source": [
    "#create filtering and data split\n",
    "\n",
    "np.random.seed(2022) #set the seed for the filter, so the random filter is repeatable\n",
    "train_filter = np.array([True if (i%2 == 0) else False for i in range(len(dataset.iloc[:,0]))])\n",
    "train_filter = np.random.choice([False, True], len(dataset.iloc[:,0]), p = [0.3, 0.7])\n",
    "test_filter = ~train_filter\n",
    "\n",
    "train = dataset.loc[train_filter]\n",
    "test = dataset.loc[test_filter]\n",
    "\n"
   ]
  },
  {
   "cell_type": "code",
   "execution_count": 56,
   "id": "b96ade90",
   "metadata": {},
   "outputs": [
    {
     "data": {
      "text/plain": [
       "(15753, 13)"
      ]
     },
     "execution_count": 56,
     "metadata": {},
     "output_type": "execute_result"
    }
   ],
   "source": [
    "targets = train.iloc[:,-1]\n",
    "inputs = train.iloc[:,:-1]\n",
    "inputs.shape "
   ]
  },
  {
   "cell_type": "code",
   "execution_count": 87,
   "id": "06c1cd8d",
   "metadata": {},
   "outputs": [
    {
     "data": {
      "text/plain": [
       "popularity              46.143864\n",
       "acousticness             0.271379\n",
       "danceability             0.575419\n",
       "duration_ms         195748.388337\n",
       "energy                   0.637003\n",
       "instrumentalness         0.006131\n",
       "key                      6.494072\n",
       "liveness                 0.187645\n",
       "loudness                -7.313694\n",
       "mode                     0.873118\n",
       "speechiness              0.049060\n",
       "tempo                  123.690968\n",
       "valence                  0.535637\n",
       "Name: Country, dtype: float64"
      ]
     },
     "execution_count": 87,
     "metadata": {},
     "output_type": "execute_result"
    }
   ],
   "source": [
    "from fomlads.model.density_estimation import max_lik_mv_gaussian\n",
    "grouped = train.groupby('track_genre')\n",
    "\n",
    "N = np.zeros((5,len(inputs)))\n",
    "\n",
    "means = train.groupby('track_genre').mean()\n",
    "means.iloc[1]"
   ]
  },
  {
   "cell_type": "code",
   "execution_count": 97,
   "id": "1e48bed1",
   "metadata": {},
   "outputs": [],
   "source": [
    "mean_vec = []\n",
    "\n",
    "for i in targets.unique():\n",
    "    mean_vec.append(inputs[targets=='Jazz'].mean().to_numpy())"
   ]
  },
  {
   "cell_type": "code",
   "execution_count": 99,
   "id": "a519f3f9",
   "metadata": {},
   "outputs": [
    {
     "data": {
      "text/plain": [
       "array([ 4.08109056e+01,  4.96447857e-01,  5.85442921e-01,  2.36081687e+05,\n",
       "        4.73191142e-01,  3.54867630e-01,  6.42442602e+00,  1.72942188e-01,\n",
       "       -1.11993511e+01,  5.21683673e-01,  7.47395727e-02,  1.11772117e+02,\n",
       "        5.10442538e-01])"
      ]
     },
     "execution_count": 99,
     "metadata": {},
     "output_type": "execute_result"
    }
   ],
   "source": [
    "SW = np."
   ]
  },
  {
   "cell_type": "markdown",
   "id": "315bfb5d",
   "metadata": {},
   "source": [
    "inputs[targets=='Jazz'].mean()"
   ]
  },
  {
   "cell_type": "code",
   "execution_count": 84,
   "id": "06dfea6b",
   "metadata": {},
   "outputs": [
    {
     "data": {
      "text/plain": [
       "(3136, 13)"
      ]
     },
     "execution_count": 84,
     "metadata": {},
     "output_type": "execute_result"
    }
   ],
   "source": [
    "inputs[targets=='Jazz'].to_numpy().shape "
   ]
  }
 ],
 "metadata": {
  "kernelspec": {
   "display_name": "Python 3 (ipykernel)",
   "language": "python",
   "name": "python3"
  },
  "language_info": {
   "codemirror_mode": {
    "name": "ipython",
    "version": 3
   },
   "file_extension": ".py",
   "mimetype": "text/x-python",
   "name": "python",
   "nbconvert_exporter": "python",
   "pygments_lexer": "ipython3",
   "version": "3.9.2"
  }
 },
 "nbformat": 4,
 "nbformat_minor": 5
}
