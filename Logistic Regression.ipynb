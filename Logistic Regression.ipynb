{
 "cells": [
  {
   "cell_type": "code",
   "execution_count": 1,
   "id": "2b316296",
   "metadata": {},
   "outputs": [],
   "source": [
    "import sklearn\n",
    "import numpy as np\n",
    "import pandas as pd\n",
    "import scipy.stats as stats\n",
    "import matplotlib.pyplot as plt\n",
    "\n",
    "from sklearn.linear_model import LogisticRegression\n",
    "from sklearn.metrics import accuracy_score\n",
    "\n",
    "from fomlads.evaluate.eval_regression import train_and_test_partition\n",
    "from fomlads.evaluate.eval_regression import train_and_test_filter\n",
    "from fomlads.evaluate.eval_regression import create_cv_folds"
   ]
  },
  {
   "cell_type": "code",
   "execution_count": 2,
   "id": "dffbe1ba",
   "metadata": {},
   "outputs": [],
   "source": [
    "dataset = pd.read_csv('/Users/ash/Documents/Year 4/Foundations of Machine Learning/Project/Used Dataset.csv')"
   ]
  },
  {
   "cell_type": "code",
   "execution_count": 3,
   "id": "998bced2",
   "metadata": {},
   "outputs": [
    {
     "name": "stdout",
     "output_type": "stream",
     "text": [
      "[[4.40000e+01 6.21000e-03 7.11000e-01 ... 3.82000e-02 1.42065e+02\n",
      "  6.07000e-01]\n",
      " [3.40000e+01 3.47000e-01 7.29000e-01 ... 1.84000e-01 7.99690e+01\n",
      "  2.87000e-01]\n",
      " [3.90000e+01 9.18000e-01 4.84000e-01 ... 3.46000e-02 8.27070e+01\n",
      "  2.06000e-01]\n",
      " ...\n",
      " [5.10000e+01 5.97000e-03 6.93000e-01 ... 1.46000e-01 1.31079e+02\n",
      "  3.95000e-01]\n",
      " [6.50000e+01 8.31000e-02 7.82000e-01 ... 4.41000e-02 7.58860e+01\n",
      "  3.54000e-01]\n",
      " [6.70000e+01 1.02000e-01 8.62000e-01 ... 1.01000e-01 9.92010e+01\n",
      "  7.65000e-01]]\n",
      "['Jazz' 'Jazz' 'Jazz' ... 'Hip-Hop' 'Hip-Hop' 'Hip-Hop']\n"
     ]
    }
   ],
   "source": [
    "# Produce inputs and target from dataset\n",
    "\n",
    "number_of_columns = 14\n",
    "inputs = dataset.iloc[:, 0:13].to_numpy()\n",
    "targets = dataset['track_genre'].to_numpy()\n",
    "print(inputs)\n",
    "print(targets)"
   ]
  },
  {
   "cell_type": "code",
   "execution_count": 4,
   "id": "f4c74ab3",
   "metadata": {},
   "outputs": [],
   "source": [
    "# Split the dataset into training + validation data and testing data\n",
    "\n",
    "train_filter, test_filter = train_and_test_filter(len(dataset))\n",
    "\n",
    "train_validation_inputs, train_validation_targets, test_inputs, test_targets = train_and_test_partition(inputs, targets, train_filter, test_filter)"
   ]
  },
  {
   "cell_type": "code",
   "execution_count": 5,
   "id": "f7a04931",
   "metadata": {},
   "outputs": [
    {
     "name": "stdout",
     "output_type": "stream",
     "text": [
      "[array([[4.40000e+01, 6.21000e-03, 7.11000e-01, ..., 3.82000e-02,\n",
      "        1.42065e+02, 6.07000e-01],\n",
      "       [3.40000e+01, 3.47000e-01, 7.29000e-01, ..., 1.84000e-01,\n",
      "        7.99690e+01, 2.87000e-01],\n",
      "       [3.60000e+01, 3.45000e-02, 4.73000e-01, ..., 6.30000e-02,\n",
      "        1.04694e+02, 3.83000e-01],\n",
      "       ...,\n",
      "       [5.90000e+01, 3.34000e-02, 9.13000e-01, ..., 2.98000e-01,\n",
      "        9.80280e+01, 3.30000e-01],\n",
      "       [7.20000e+01, 1.57000e-01, 7.09000e-01, ..., 5.50000e-02,\n",
      "        1.22043e+02, 1.13000e-01],\n",
      "       [6.50000e+01, 8.31000e-02, 7.82000e-01, ..., 4.41000e-02,\n",
      "        7.58860e+01, 3.54000e-01]]), array([[3.90000e+01, 9.18000e-01, 4.84000e-01, ..., 3.46000e-02,\n",
      "        8.27070e+01, 2.06000e-01],\n",
      "       [3.60000e+01, 3.45000e-02, 4.73000e-01, ..., 6.30000e-02,\n",
      "        1.04694e+02, 3.83000e-01],\n",
      "       [6.30000e+01, 6.99000e-01, 5.80000e-01, ..., 2.69000e-02,\n",
      "        9.30370e+01, 3.64000e-01],\n",
      "       ...,\n",
      "       [5.10000e+01, 5.97000e-03, 6.93000e-01, ..., 1.46000e-01,\n",
      "        1.31079e+02, 3.95000e-01],\n",
      "       [6.50000e+01, 8.31000e-02, 7.82000e-01, ..., 4.41000e-02,\n",
      "        7.58860e+01, 3.54000e-01],\n",
      "       [6.70000e+01, 1.02000e-01, 8.62000e-01, ..., 1.01000e-01,\n",
      "        9.92010e+01, 7.65000e-01]]), array([[4.40000e+01, 6.21000e-03, 7.11000e-01, ..., 3.82000e-02,\n",
      "        1.42065e+02, 6.07000e-01],\n",
      "       [3.40000e+01, 3.47000e-01, 7.29000e-01, ..., 1.84000e-01,\n",
      "        7.99690e+01, 2.87000e-01],\n",
      "       [3.90000e+01, 9.18000e-01, 4.84000e-01, ..., 3.46000e-02,\n",
      "        8.27070e+01, 2.06000e-01],\n",
      "       ...,\n",
      "       [7.20000e+01, 1.57000e-01, 7.09000e-01, ..., 5.50000e-02,\n",
      "        1.22043e+02, 1.13000e-01],\n",
      "       [5.10000e+01, 5.97000e-03, 6.93000e-01, ..., 1.46000e-01,\n",
      "        1.31079e+02, 3.95000e-01],\n",
      "       [6.70000e+01, 1.02000e-01, 8.62000e-01, ..., 1.01000e-01,\n",
      "        9.92010e+01, 7.65000e-01]]), array([[4.40000e+01, 6.21000e-03, 7.11000e-01, ..., 3.82000e-02,\n",
      "        1.42065e+02, 6.07000e-01],\n",
      "       [3.40000e+01, 3.47000e-01, 7.29000e-01, ..., 1.84000e-01,\n",
      "        7.99690e+01, 2.87000e-01],\n",
      "       [3.90000e+01, 9.18000e-01, 4.84000e-01, ..., 3.46000e-02,\n",
      "        8.27070e+01, 2.06000e-01],\n",
      "       ...,\n",
      "       [5.10000e+01, 5.97000e-03, 6.93000e-01, ..., 1.46000e-01,\n",
      "        1.31079e+02, 3.95000e-01],\n",
      "       [6.50000e+01, 8.31000e-02, 7.82000e-01, ..., 4.41000e-02,\n",
      "        7.58860e+01, 3.54000e-01],\n",
      "       [6.70000e+01, 1.02000e-01, 8.62000e-01, ..., 1.01000e-01,\n",
      "        9.92010e+01, 7.65000e-01]])]\n",
      "[array(['Jazz', 'Jazz', 'Jazz', ..., 'Hip-Hop', 'Hip-Hop', 'Hip-Hop'],\n",
      "      dtype=object), array(['Jazz', 'Jazz', 'Jazz', ..., 'Hip-Hop', 'Hip-Hop', 'Hip-Hop'],\n",
      "      dtype=object), array(['Jazz', 'Jazz', 'Jazz', ..., 'Hip-Hop', 'Hip-Hop', 'Hip-Hop'],\n",
      "      dtype=object), array(['Jazz', 'Jazz', 'Jazz', ..., 'Hip-Hop', 'Hip-Hop', 'Hip-Hop'],\n",
      "      dtype=object)]\n",
      "[array([[3.90000e+01, 9.18000e-01, 4.84000e-01, ..., 3.46000e-02,\n",
      "        8.27070e+01, 2.06000e-01],\n",
      "       [4.20000e+01, 1.51000e-01, 7.79000e-01, ..., 4.12000e-02,\n",
      "        9.10350e+01, 3.58000e-01],\n",
      "       [4.50000e+01, 3.72000e-02, 3.94000e-01, ..., 1.59000e-01,\n",
      "        8.55530e+01, 3.98000e-01],\n",
      "       ...,\n",
      "       [5.70000e+01, 3.63000e-02, 8.29000e-01, ..., 5.15000e-02,\n",
      "        1.03816e+02, 5.94000e-01],\n",
      "       [5.10000e+01, 5.97000e-03, 6.93000e-01, ..., 1.46000e-01,\n",
      "        1.31079e+02, 3.95000e-01],\n",
      "       [6.70000e+01, 1.02000e-01, 8.62000e-01, ..., 1.01000e-01,\n",
      "        9.92010e+01, 7.65000e-01]]), array([[4.40000e+01, 6.21000e-03, 7.11000e-01, ..., 3.82000e-02,\n",
      "        1.42065e+02, 6.07000e-01],\n",
      "       [3.40000e+01, 3.47000e-01, 7.29000e-01, ..., 1.84000e-01,\n",
      "        7.99690e+01, 2.87000e-01],\n",
      "       [5.30000e+01, 5.01000e-01, 9.21000e-01, ..., 2.13000e-01,\n",
      "        1.23043e+02, 7.61000e-01],\n",
      "       ...,\n",
      "       [5.40000e+01, 3.04000e-01, 6.42000e-01, ..., 2.15000e-01,\n",
      "        8.95960e+01, 2.76000e-01],\n",
      "       [5.60000e+01, 1.33000e-01, 8.49000e-01, ..., 5.16000e-02,\n",
      "        9.99880e+01, 6.29000e-01],\n",
      "       [5.90000e+01, 3.34000e-02, 9.13000e-01, ..., 2.98000e-01,\n",
      "        9.80280e+01, 3.30000e-01]]), array([[6.30000e+01, 6.99000e-01, 5.80000e-01, ..., 2.69000e-02,\n",
      "        9.30370e+01, 3.64000e-01],\n",
      "       [4.20000e+01, 7.88000e-02, 7.05000e-01, ..., 3.15000e-02,\n",
      "        1.15126e+02, 6.68000e-01],\n",
      "       [4.80000e+01, 7.29000e-03, 4.40000e-01, ..., 8.36000e-02,\n",
      "        1.69765e+02, 7.39000e-01],\n",
      "       ...,\n",
      "       [5.10000e+01, 1.95000e-01, 6.30000e-01, ..., 1.20000e-01,\n",
      "        1.58006e+02, 4.46000e-01],\n",
      "       [6.20000e+01, 1.06000e-02, 9.44000e-01, ..., 6.40000e-02,\n",
      "        1.07992e+02, 7.05000e-01],\n",
      "       [6.50000e+01, 8.31000e-02, 7.82000e-01, ..., 4.41000e-02,\n",
      "        7.58860e+01, 3.54000e-01]]), array([[3.60000e+01, 3.45000e-02, 4.73000e-01, ..., 6.30000e-02,\n",
      "        1.04694e+02, 3.83000e-01],\n",
      "       [3.90000e+01, 4.95000e-01, 6.56000e-01, ..., 3.48000e-02,\n",
      "        9.13680e+01, 5.73000e-01],\n",
      "       [3.40000e+01, 1.25000e-01, 5.69000e-01, ..., 1.35000e-01,\n",
      "        9.10020e+01, 5.00000e-01],\n",
      "       ...,\n",
      "       [7.50000e+01, 1.71000e-01, 5.87000e-01, ..., 4.20000e-01,\n",
      "        9.80080e+01, 3.81000e-01],\n",
      "       [5.50000e+01, 4.74000e-01, 5.14000e-01, ..., 3.87000e-01,\n",
      "        1.67655e+02, 6.99000e-01],\n",
      "       [7.20000e+01, 1.57000e-01, 7.09000e-01, ..., 5.50000e-02,\n",
      "        1.22043e+02, 1.13000e-01]])]\n",
      "[array(['Jazz', 'Jazz', 'Jazz', ..., 'Hip-Hop', 'Hip-Hop', 'Hip-Hop'],\n",
      "      dtype=object), array(['Jazz', 'Jazz', 'Jazz', ..., 'Hip-Hop', 'Hip-Hop', 'Hip-Hop'],\n",
      "      dtype=object), array(['Jazz', 'Jazz', 'Jazz', ..., 'Hip-Hop', 'Hip-Hop', 'Hip-Hop'],\n",
      "      dtype=object), array(['Jazz', 'Jazz', 'Jazz', ..., 'Hip-Hop', 'Hip-Hop', 'Hip-Hop'],\n",
      "      dtype=object)]\n",
      "4\n",
      "4\n",
      "4\n",
      "4\n"
     ]
    }
   ],
   "source": [
    "# Partition the training + validation data into training data and validation data\n",
    "\n",
    "N = len(dataset)\n",
    "number_of_folds = 4\n",
    "random_seed = 1\n",
    "np.random.seed(random_seed)\n",
    "folds = create_cv_folds(N, number_of_folds)  \n",
    "\n",
    "train_inputs = []\n",
    "train_targets = []\n",
    "validation_inputs = []\n",
    "validation_targets = []\n",
    "\n",
    "for i in range(number_of_folds):\n",
    "    train_inputs1, train_targets1, validation_inputs1, validation_targets1 = train_and_test_partition(inputs, targets, folds[i][0], folds[i][1])\n",
    "    train_inputs.append(train_inputs1)\n",
    "    train_targets.append(train_targets1)\n",
    "    validation_inputs.append(validation_inputs1)\n",
    "    validation_targets.append(validation_targets1)\n",
    "    \n",
    "print(train_inputs)\n",
    "print(train_targets)\n",
    "print(validation_inputs)\n",
    "print(validation_targets)\n",
    "\n",
    "# Their lengths should be the same as the number of folds\n",
    "\n",
    "print(len(train_inputs))\n",
    "print(len(train_targets))\n",
    "print(len(validation_inputs))\n",
    "print(len(validation_targets))"
   ]
  },
  {
   "cell_type": "code",
   "execution_count": 6,
   "id": "83e9f814",
   "metadata": {},
   "outputs": [
    {
     "name": "stdout",
     "output_type": "stream",
     "text": [
      "[0.43802018771028867, 0.4030458650610944, 0.4031786789445723, 0.4031344076500797, 0.4031786789445723, 0.4031786789445723, 0.4031786789445723, 0.4031786789445723, 0.4031786789445723, 0.4031786789445723]\n"
     ]
    }
   ],
   "source": [
    "# LOGISTIC REGRESSION\n",
    "\n",
    "# Perform cross-validation for each hyperparameter value on training + validation data\n",
    "\n",
    "powers_of_ten = np.linspace(-4, 5, 10)\n",
    "ten = np.full(10, 10)\n",
    "list_of_parameters = list(np.power(ten, powers_of_ten, dtype = float))\n",
    "\n",
    "mean_accuracies = []\n",
    "\n",
    "for parameter in list_of_parameters:\n",
    "    accuracy_j = []\n",
    "    for i in range(number_of_folds):\n",
    "        LogReg = LogisticRegression(C = parameter, max_iter = 10000)\n",
    "        LogReg.fit(train_inputs[i], train_targets[i])\n",
    "        predict_targets = LogReg.predict(validation_inputs[i])\n",
    "        accuracy_for_fold_i = accuracy_score(validation_targets[i], predict_targets)\n",
    "        accuracy_j.append(accuracy_for_fold_i)\n",
    "    mean_accuracy_j = np.mean(accuracy_j)\n",
    "    mean_accuracies.append(mean_accuracy_j)\n",
    "\n",
    "print(mean_accuracies)"
   ]
  },
  {
   "cell_type": "code",
   "execution_count": 8,
   "id": "b8a999fc",
   "metadata": {},
   "outputs": [
    {
     "name": "stdout",
     "output_type": "stream",
     "text": [
      "0.0001\n"
     ]
    }
   ],
   "source": [
    "# Choose the best hyperparameter value averaged over folds by finding the highest \n",
    "# mean accuracy\n",
    "\n",
    "mean_accuracies_list = np.array(mean_accuracies)\n",
    "index_of_max_mean = mean_accuracies_list.argmax()\n",
    "best_lambda = list_of_parameters[index_of_max_mean]\n",
    "\n",
    "print(best_lambda)"
   ]
  },
  {
   "cell_type": "code",
   "execution_count": 9,
   "id": "7bdff0ae",
   "metadata": {},
   "outputs": [
    {
     "name": "stdout",
     "output_type": "stream",
     "text": [
      "0.4704519119351101\n"
     ]
    }
   ],
   "source": [
    "# Retrain Logisitic Regression with the best hyperparameter value on ALL training + \n",
    "# validation data and predict inputs from testing data\n",
    "\n",
    "LogReg2 = LogisticRegression(C = best_lambda, max_iter = 10000)\n",
    "LogReg2.fit(train_validation_inputs, train_validation_targets)\n",
    "predict_targets2 = LogReg2.predict(test_inputs)\n",
    "accuracy = accuracy_score(test_targets, predict_targets2)\n",
    "\n",
    "print(accuracy)"
   ]
  },
  {
   "cell_type": "code",
   "execution_count": 10,
   "id": "4a310cdf",
   "metadata": {},
   "outputs": [
    {
     "data": {
      "text/plain": [
       "Text(0.5, 1.0, 'Accuracy with its corresponding lambda')"
      ]
     },
     "execution_count": 10,
     "metadata": {},
     "output_type": "execute_result"
    },
    {
     "data": {
      "image/png": "[encoded data removed]",
      "text/plain": [
       "<Figure size 432x288 with 1 Axes>"
      ]
     },
     "metadata": {
      "needs_background": "light"
     },
     "output_type": "display_data"
    }
   ],
   "source": [
    "# Plot the accuracies\n",
    "\n",
    "plt.figure()\n",
    "plt.plot(list_of_parameters, mean_accuracies, '-')\n",
    "plt.xlabel('Lambda')\n",
    "plt.ylabel('Accuracy')\n",
    "plt.title('Accuracy with its corresponding lambda')"
   ]
  },
  {
   "cell_type": "code",
   "execution_count": 11,
   "id": "83f3dee9",
   "metadata": {},
   "outputs": [
    {
     "name": "stdout",
     "output_type": "stream",
     "text": [
      "0.4066451213033469\n",
      "(0.4065767933061204, 0.4067134493005734)\n"
     ]
    }
   ],
   "source": [
    "# Calculate the confidence interval\n",
    "\n",
    "mean_LogReg_accuracies = np.mean(mean_accuracies)\n",
    "std_LogReg_accuracies = np.std(mean_accuracies, ddof = 1)\n",
    "confidence_interval = stats.t.interval(0.95, 100000 - 1, mean_LogReg_accuracies, std_LogReg_accuracies / (100000 ** (1/2)))\n",
    "\n",
    "print(mean_LogReg_accuracies)\n",
    "print(confidence_interval)"
   ]
  }
 ],
 "metadata": {
  "kernelspec": {
   "display_name": "Python 3 (ipykernel)",
   "language": "python",
   "name": "python3"
  },
  "language_info": {
   "codemirror_mode": {
    "name": "ipython",
    "version": 3
   },
   "file_extension": ".py",
   "mimetype": "text/x-python",
   "name": "python",
   "nbconvert_exporter": "python",
   "pygments_lexer": "ipython3",
   "version": "3.9.12"
  }
 },
 "nbformat": 4,
 "nbformat_minor": 5
}
