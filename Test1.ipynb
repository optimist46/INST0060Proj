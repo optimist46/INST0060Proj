{
 "cells": [
  {
   "cell_type": "code",
   "execution_count": null,
   "id": "e9f58c46",
   "metadata": {},
   "outputs": [],
   "source": [
    "import numpy as np\n",
    "import math\n",
    "import matplotlib\n",
    "import matplotlib.pyplot as plt\n",
    "\n",
    "import scipy.stats\n",
    "import pandas as pd\n",
    "from itertools import groupby\n",
    "import csv\n",
    "from sklearn import linear_model\n",
    "from fomlads.data.external import import_for_classification\n",
    "from fomlads.model.classification import project_data\n",
    "from fomlads.model.classification import maximum_separation_projection\n",
    "\n",
    "from fomlads.plot.exploratory import plot_scatter_array_classes\n",
    "from fomlads.plot.exploratory import plot_class_histograms"
   ]
  },
  {
   "cell_type": "code",
   "execution_count": null,
   "id": "68a0c936",
   "metadata": {},
   "outputs": [
    {
     "name": "stdout",
     "output_type": "stream",
     "text": [
      "dataframe.columns = Index(['popularity', 'duration_ms', 'explicit', 'danceability', 'energy',\n",
      "       'key', 'loudness', 'mode', 'speechiness', 'acousticness',\n",
      "       'instrumentalness', 'liveness', 'valence', 'tempo', 'time_signature',\n",
      "       'track_genre'],\n",
      "      dtype='object')\n",
      "input_cols = Index(['popularity', 'duration_ms', 'explicit', 'danceability', 'energy',\n",
      "       'key', 'loudness', 'mode', 'speechiness', 'acousticness',\n",
      "       'instrumentalness', 'liveness', 'valence', 'tempo', 'time_signature'],\n",
      "      dtype='object')\n",
      "classes = array(['classical', 'hip-hop', 'pop', 'r-n-b', 'edm', 'rock', 'acoustic',\n",
      "       'house', 'jazz', 'k-pop'], dtype=object)\n"
     ]
    },
    {
     "data": {
      "text/plain": [
       "(10000, 15)"
      ]
     },
     "execution_count": 115,
     "metadata": {},
     "output_type": "execute_result"
    }
   ],
   "source": [
    "data_source = 'Data/Processed_data.csv'\n",
    "inputs, targets, field_names, classes = import_for_classification(data_source)\n",
    "\n",
    "inputs.shape"
   ]
  },
  {
   "cell_type": "code",
   "execution_count": null,
   "id": "48e45bdd",
   "metadata": {
    "scrolled": true
   },
   "outputs": [
    {
     "ename": "NameError",
     "evalue": "name 'D' is not defined",
     "output_type": "error",
     "traceback": [
      "\u001b[0;31m---------------------------------------------------------------------------\u001b[0m",
      "\u001b[0;31mNameError\u001b[0m                                 Traceback (most recent call last)",
      "\u001b[0;32m/var/folders/f9/88_2t8j106d11pk5vg4h3q_h0000gn/T/ipykernel_3108/3086006247.py\u001b[0m in \u001b[0;36m<module>\u001b[0;34m\u001b[0m\n\u001b[0;32m----> 1\u001b[0;31m \u001b[0mD\u001b[0m\u001b[0;34m,\u001b[0m\u001b[0mD\u001b[0m\u001b[0;34m\u001b[0m\u001b[0;34m\u001b[0m\u001b[0m\n\u001b[0m",
      "\u001b[0;31mNameError\u001b[0m: name 'D' is not defined"
     ]
    }
   ],
   "source": [
    "## D,D"
   ]
  },
  {
   "cell_type": "code",
   "execution_count": null,
   "id": "1fbffc39",
   "metadata": {},
   "outputs": [],
   "source": [
    "find_dataset = 'Data/Processed_data.csv'\n",
    "dataset = pd.read_csv(find_dataset)\n",
    "\n",
    "library(caTools)\n",
    "split = sample.split(dataset$track_genre, SplitRatio = 2/5)\n",
    "training_set = subset(dataset, split == TRUE)\n",
    "test_set = subset(dataset, split == FALSE)\n",
    "## regressor = lm(formula = track_genre ~ popularity, data = training_set)\n",
    "## summary(regressor)\n",
    "\n",
    "from sklearn.linear_model import LogisticRegression\n",
    "reg = LogisticRegression()\n",
    "## reg.fit(training set of genre, training set of popularity)\n",
    "\n",
    "## train_filter = np.array([True if (i%2 == 0) else False for i in range(10000)])\n",
    "## train_filter = np.random.choice([False, True], 10000, p = [0.5, 0.5])\n",
    "## test_filter = ~train_filter"
   ]
  }
 ],
 "metadata": {
  "kernelspec": {
   "display_name": "Python 3 (ipykernel)",
   "language": "python",
   "name": "python3"
  },
  "language_info": {
   "codemirror_mode": {
    "name": "ipython",
    "version": 3
   },
   "file_extension": ".py",
   "mimetype": "text/x-python",
   "name": "python",
   "nbconvert_exporter": "python",
   "pygments_lexer": "ipython3",
   "version": "3.9.2"
  }
 },
 "nbformat": 4,
 "nbformat_minor": 5
}
