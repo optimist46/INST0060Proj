{
 "cells": [
  {
   "cell_type": "code",
   "execution_count": 9,
   "id": "e9f58c46",
   "metadata": {},
   "outputs": [],
   "source": [
    "import numpy as np\n",
    "import math\n",
    "import matplotlib\n",
    "import matplotlib.pyplot as plt\n",
    "\n",
    "import scipy.stats\n",
    "import pandas as pd\n",
    "from itertools import groupby\n",
    "import csv\n",
    "from sklearn import linear_model\n",
    "from fomlads.data.external import import_for_classification\n",
    "from fomlads.model.classification import project_data\n",
    "from fomlads.model.classification import fisher_linear_discriminant_projection\n",
    "\n",
    "from fomlads.plot.exploratory import plot_scatter_array_classes\n",
    "from fomlads.plot.exploratory import plot_class_histograms"
   ]
  },
  {
   "cell_type": "code",
   "execution_count": 20,
   "id": "68a0c936",
   "metadata": {},
   "outputs": [
    {
     "name": "stdout",
     "output_type": "stream",
     "text": [
      "dataframe.columns = Index(['popularity', 'duration_ms', 'explicit', 'danceability', 'energy',\n",
      "       'key', 'loudness', 'mode', 'speechiness', 'acousticness',\n",
      "       'instrumentalness', 'liveness', 'valence', 'tempo', 'time_signature',\n",
      "       'track_genre'],\n",
      "      dtype='object')\n",
      "input_cols = ['popularity', 'duration_ms', 'explicit', 'danceability', 'energy', 'key', 'loudness', 'mode', 'speechiness', 'acousticness', 'instrumentalness', 'liveness', 'valence', 'tempo', 'time_signature']\n",
      "classes = array(['classical', 'hip-hop', 'pop', 'r-n-b', 'edm', 'rock', 'acoustic',\n",
      "       'house', 'jazz'], dtype=object)\n"
     ]
    },
    {
     "data": {
      "text/plain": [
       "array([[5.80000e+01, 2.98266e+05, 0.00000e+00, ..., 6.20000e-01,\n",
       "        1.43813e+02, 4.00000e+00],\n",
       "       [5.90000e+01, 4.82586e+05, 0.00000e+00, ..., 6.80000e-01,\n",
       "        9.19750e+01, 4.00000e+00],\n",
       "       [5.40000e+01, 2.19437e+05, 0.00000e+00, ..., 4.39000e-01,\n",
       "        1.40109e+02, 4.00000e+00],\n",
       "       ...,\n",
       "       [0.00000e+00, 2.17386e+05, 0.00000e+00, ..., 6.33000e-01,\n",
       "        1.60021e+02, 4.00000e+00],\n",
       "       [0.00000e+00, 1.93151e+05, 0.00000e+00, ..., 6.10000e-01,\n",
       "        1.71016e+02, 4.00000e+00],\n",
       "       [1.00000e+00, 1.93151e+05, 0.00000e+00, ..., 6.10000e-01,\n",
       "        1.71016e+02, 4.00000e+00]])"
      ]
     },
     "execution_count": 20,
     "metadata": {},
     "output_type": "execute_result"
    }
   ],
   "source": [
    "data_source_training = 'Data/Processed_data_training.csv'\n",
    "input_cols = ['popularity', 'duration_ms', 'explicit', 'danceability', 'energy',\n",
    "       'key', 'loudness', 'mode', 'speechiness', 'acousticness',\n",
    "       'instrumentalness', 'liveness', 'valence', 'tempo', 'time_signature']\n",
    "inputs, targets, field_names, classes = import_for_classification(data_source_training,input_cols = input_cols)\n",
    "\n",
    "inputs"
   ]
  },
  {
   "cell_type": "code",
   "execution_count": 21,
   "id": "48e45bdd",
   "metadata": {
    "scrolled": true
   },
   "outputs": [
    {
     "data": {
      "text/plain": [
       "array([[ 6.14380374e-03],\n",
       "       [-6.22497027e-07],\n",
       "       [ 2.18859146e-01],\n",
       "       [ 2.04998038e+00],\n",
       "       [ 1.28726322e+00],\n",
       "       [-5.67414135e-03],\n",
       "       [ 1.61756553e-03],\n",
       "       [-2.02260090e-01],\n",
       "       [ 1.20155394e+00],\n",
       "       [-2.55148838e+00],\n",
       "       [-2.34706276e-01],\n",
       "       [-2.17470126e-01],\n",
       "       [-5.95934763e-01],\n",
       "       [-1.42436326e-03],\n",
       "       [ 4.35407026e-02]])"
      ]
     },
     "execution_count": 21,
     "metadata": {},
     "output_type": "execute_result"
    }
   ],
   "source": [
    "fisher_linear_discriminant_projection(inputs, targets)"
   ]
  },
  {
   "cell_type": "code",
   "execution_count": null,
   "id": "a18e3be6",
   "metadata": {},
   "outputs": [],
   "source": [
    "plot_train_test_error"
   ]
  },
  {
   "cell_type": "code",
   "execution_count": null,
   "id": "f17c55c1",
   "metadata": {},
   "outputs": [],
   "source": []
  },
  {
   "cell_type": "code",
   "execution_count": null,
   "id": "7c19105c",
   "metadata": {},
   "outputs": [],
   "source": []
  },
  {
   "cell_type": "code",
   "execution_count": null,
   "id": "6701f680",
   "metadata": {},
   "outputs": [],
   "source": []
  },
  {
   "cell_type": "code",
   "execution_count": null,
   "id": "990b1b15",
   "metadata": {},
   "outputs": [],
   "source": []
  },
  {
   "cell_type": "code",
   "execution_count": null,
   "id": "0d47bb42",
   "metadata": {},
   "outputs": [],
   "source": []
  },
  {
   "cell_type": "code",
   "execution_count": null,
   "id": "7c1ae16c",
   "metadata": {},
   "outputs": [],
   "source": []
  },
  {
   "cell_type": "code",
   "execution_count": null,
   "id": "cc1203b4",
   "metadata": {},
   "outputs": [],
   "source": []
  },
  {
   "cell_type": "code",
   "execution_count": null,
   "id": "73354ec3",
   "metadata": {},
   "outputs": [],
   "source": []
  },
  {
   "cell_type": "code",
   "execution_count": null,
   "id": "6a1c8649",
   "metadata": {},
   "outputs": [],
   "source": []
  },
  {
   "cell_type": "code",
   "execution_count": null,
   "id": "d94f73ed",
   "metadata": {},
   "outputs": [],
   "source": []
  },
  {
   "cell_type": "code",
   "execution_count": null,
   "id": "868ed4a8",
   "metadata": {},
   "outputs": [],
   "source": []
  }
 ],
 "metadata": {
  "kernelspec": {
   "display_name": "Python 3 (ipykernel)",
   "language": "python",
   "name": "python3"
  },
  "language_info": {
   "codemirror_mode": {
    "name": "ipython",
    "version": 3
   },
   "file_extension": ".py",
   "mimetype": "text/x-python",
   "name": "python",
   "nbconvert_exporter": "python",
   "pygments_lexer": "ipython3",
   "version": "3.9.2"
  }
 },
 "nbformat": 4,
 "nbformat_minor": 5
}
