{
 "cells": [
  {
   "cell_type": "markdown",
   "id": "0e6197ce",
   "metadata": {},
   "source": [
    "# INST0060: Code-base main\n",
    "\n",
    "Follow the below notebook to compile the project"
   ]
  },
  {
   "cell_type": "markdown",
   "id": "02ee1964",
   "metadata": {},
   "source": [
    "### Importing\n",
    "\n",
    "Importing the custom written libraries and others neccesary to run the notebook and the dataset"
   ]
  },
  {
   "cell_type": "code",
   "execution_count": 15,
   "id": "2fad2f36",
   "metadata": {},
   "outputs": [],
   "source": [
    "#custom libraries\n",
    "\n",
    "from functions import logreg, knn, randfor, lda, use_for_models as ufm\n",
    "\n",
    "import fomlads.evaluate.eval_regression as fomlads\n",
    "\n",
    "#import pandas and numpy\n",
    "\n",
    "import pandas as pd\n",
    "import numpy as np\n",
    "\n",
    "\n",
    "#import sklearn libraries\n",
    "\n",
    "from sklearn.metrics import accuracy_score\n",
    "from sklearn.metrics import f1_score\n"
   ]
  },
  {
   "cell_type": "code",
   "execution_count": 16,
   "id": "378662f5",
   "metadata": {},
   "outputs": [],
   "source": [
    "#read the dataset\n",
    "dataset = pd.read_csv('Data/Used Dataset.csv')"
   ]
  },
  {
   "cell_type": "markdown",
   "id": "6fd7380a",
   "metadata": {},
   "source": [
    "### Partition the dataset into inputs, targets + training, validating folds + testing"
   ]
  },
  {
   "cell_type": "code",
   "execution_count": 17,
   "id": "a56c92b5",
   "metadata": {},
   "outputs": [],
   "source": [
    "# Produce inputs and targets from dataset\n",
    "\n",
    "inputs = dataset.iloc[:, 0:-1].to_numpy()\n",
    "targets = dataset['track_genre'].to_numpy()\n"
   ]
  },
  {
   "cell_type": "code",
   "execution_count": 18,
   "id": "2560c88a",
   "metadata": {},
   "outputs": [],
   "source": [
    "# Split the dataset into training + validation data and testing data\n",
    "\n",
    "train_filter, test_filter = fomlads.train_and_test_filter(len(dataset))\n",
    "\n",
    "train_validation_inputs, train_validation_targets, test_inputs, test_targets = fomlads.train_and_test_partition(inputs, targets, train_filter, test_filter)\n"
   ]
  },
  {
   "cell_type": "code",
   "execution_count": 19,
   "id": "871449be",
   "metadata": {},
   "outputs": [],
   "source": [
    "# Partition the training + validation data into training data and validation data\n",
    "\n",
    "number_of_folds = 4 #specify number of folds on training dataset\n",
    "random_seed = 1 #set random seed to ensure reproducability\n",
    "    \n",
    "train_inputs, train_targets, validation_inputs, validation_targets = ufm.train_and_validation_inputs_targets(inputs,targets, number_of_folds, random_seed)\n"
   ]
  },
  {
   "cell_type": "markdown",
   "id": "fc19e41b",
   "metadata": {},
   "source": [
    "## Train models (sum of expected runtime ~4 mins) "
   ]
  },
  {
   "cell_type": "code",
   "execution_count": 20,
   "id": "5b89820e",
   "metadata": {},
   "outputs": [],
   "source": [
    "#the four models used in this project\n",
    "\n",
    "models = ['Random Forest','kNN', 'Logistic Regression', 'Fishers LDA']"
   ]
  },
  {
   "cell_type": "code",
   "execution_count": 21,
   "id": "1652536f",
   "metadata": {},
   "outputs": [],
   "source": [
    "#random forest - calculating best n estimator\n",
    "\n",
    "\n",
    "\n",
    "best_n = randfor.random_forest_n_estimator(train_inputs,train_targets, validation_inputs, \n",
    "                                           validation_targets, number_of_folds)\n",
    "\n"
   ]
  },
  {
   "cell_type": "code",
   "execution_count": 22,
   "id": "4ca30b93",
   "metadata": {},
   "outputs": [],
   "source": [
    "#knn means - calculating best k value\n",
    "\n",
    "best_k = knn.knn_k_value(train_inputs, train_targets, \n",
    "                         validation_inputs, validation_targets, number_of_folds)"
   ]
  },
  {
   "cell_type": "code",
   "execution_count": 23,
   "id": "271b5d83",
   "metadata": {},
   "outputs": [],
   "source": [
    "\n",
    "#logistic regression - calculating best lamda\n",
    "\n",
    "best_lambda = logreg.logistic_regression_best_lamda(train_inputs, train_targets, \n",
    "                                                    validation_inputs, validation_targets, number_of_folds)"
   ]
  },
  {
   "cell_type": "markdown",
   "id": "f804ff48",
   "metadata": {},
   "source": [
    "### Refitting"
   ]
  },
  {
   "cell_type": "code",
   "execution_count": 24,
   "id": "45563a91",
   "metadata": {},
   "outputs": [],
   "source": [
    "#refit the models\n",
    "\n",
    "random_forest_model = randfor.test_rand_for(train_validation_inputs, train_validation_targets, best_n)\n",
    "\n",
    "knn_model = knn.test_knn(train_validation_inputs, train_validation_targets, best_k)\n",
    "\n",
    "logistic_regression_model = logreg.test_log_reg(train_validation_inputs,train_validation_targets, best_lambda)\n",
    "\n",
    "linear_discriminant_model = lda.linear_discriminant_analysis(train_inputs, train_targets, validation_inputs, validation_targets, number_of_folds)"
   ]
  },
  {
   "cell_type": "markdown",
   "id": "28cde738",
   "metadata": {},
   "source": [
    "### Make predictions on unseen data"
   ]
  },
  {
   "cell_type": "code",
   "execution_count": 25,
   "id": "0f371449",
   "metadata": {},
   "outputs": [],
   "source": [
    "#run models on test data\n",
    "predict_targets = [0,0,0,0]\n",
    "\n",
    "predict_targets[0] = random_forest_model.predict(test_inputs)\n",
    "predict_targets[1] = knn_model.predict(test_inputs)\n",
    "predict_targets[2] = logistic_regression_model.predict(test_inputs)\n",
    "predict_targets[3] = linear_discriminant_model.predict(test_inputs)"
   ]
  },
  {
   "cell_type": "markdown",
   "id": "ffcdb183",
   "metadata": {},
   "source": [
    "### Evaluation (this is to be made more comprehensive)"
   ]
  },
  {
   "cell_type": "code",
   "execution_count": 26,
   "id": "6acae51d",
   "metadata": {},
   "outputs": [
    {
     "name": "stdout",
     "output_type": "stream",
     "text": [
      "Random Forest model acuracy: 79.963%\n",
      "kNN model acuracy: 32.464%\n",
      "Logistic Regression model acuracy: 47.736%\n",
      "Fishers LDA model acuracy: 74.250%\n"
     ]
    }
   ],
   "source": [
    "#print accuracies\n",
    "\n",
    "for i in range(len(predict_targets)):\n",
    "   print(models[i],'model acuracy: {:.3f}%'.format(accuracy_score(test_targets, predict_targets[i])*100))"
   ]
  },
  {
   "cell_type": "code",
   "execution_count": 14,
   "id": "e9a1538c",
   "metadata": {},
   "outputs": [
    {
     "ename": "AttributeError",
     "evalue": "module 'functions.lda' has no attribute 'fit'",
     "output_type": "error",
     "traceback": [
      "\u001b[0;31m---------------------------------------------------------------------------\u001b[0m",
      "\u001b[0;31mAttributeError\u001b[0m                            Traceback (most recent call last)",
      "\u001b[0;32m/var/folders/f9/88_2t8j106d11pk5vg4h3q_h0000gn/T/ipykernel_66711/2811714337.py\u001b[0m in \u001b[0;36m<module>\u001b[0;34m\u001b[0m\n\u001b[0;32m----> 1\u001b[0;31m \u001b[0mufm\u001b[0m\u001b[0;34m.\u001b[0m\u001b[0mplot_decision_boundary\u001b[0m\u001b[0;34m(\u001b[0m\u001b[0mdataset\u001b[0m\u001b[0;34m,\u001b[0m\u001b[0mtrain_validation_inputs\u001b[0m\u001b[0;34m,\u001b[0m\u001b[0mtrain_validation_targets\u001b[0m\u001b[0;34m,\u001b[0m\u001b[0mtest_inputs\u001b[0m\u001b[0;34m,\u001b[0m \u001b[0mlda\u001b[0m\u001b[0;34m,\u001b[0m\u001b[0;36m0\u001b[0m\u001b[0;34m,\u001b[0m \u001b[0;36m6\u001b[0m\u001b[0;34m)\u001b[0m\u001b[0;34m\u001b[0m\u001b[0;34m\u001b[0m\u001b[0m\n\u001b[0m",
      "\u001b[0;32m~/Documents/UCL/year3/inst0060/group/functions/use_for_models.py\u001b[0m in \u001b[0;36mplot_decision_boundary\u001b[0;34m(dataset, train_validation_inputs, train_validation_targets, test_inputs, model, feature1, feature2)\u001b[0m\n\u001b[1;32m     72\u001b[0m \u001b[0;34m\u001b[0m\u001b[0m\n\u001b[1;32m     73\u001b[0m     \u001b[0;31m# Fit the model to the training data\u001b[0m\u001b[0;34m\u001b[0m\u001b[0;34m\u001b[0m\u001b[0;34m\u001b[0m\u001b[0m\n\u001b[0;32m---> 74\u001b[0;31m     \u001b[0mmodel\u001b[0m\u001b[0;34m.\u001b[0m\u001b[0mfit\u001b[0m\u001b[0;34m(\u001b[0m\u001b[0mX_2d\u001b[0m\u001b[0;34m,\u001b[0m \u001b[0my\u001b[0m\u001b[0;34m)\u001b[0m\u001b[0;34m\u001b[0m\u001b[0;34m\u001b[0m\u001b[0m\n\u001b[0m\u001b[1;32m     75\u001b[0m \u001b[0;34m\u001b[0m\u001b[0m\n\u001b[1;32m     76\u001b[0m     \u001b[0;31m# use the model to predict the labels of the test data\u001b[0m\u001b[0;34m\u001b[0m\u001b[0;34m\u001b[0m\u001b[0;34m\u001b[0m\u001b[0m\n",
      "\u001b[0;31mAttributeError\u001b[0m: module 'functions.lda' has no attribute 'fit'"
     ]
    }
   ],
   "source": [
    "ufm.plot_decision_boundary(dataset,train_validation_inputs,train_validation_targets,test_inputs, lda,0, 6)\n"
   ]
  },
  {
   "cell_type": "code",
   "execution_count": null,
   "id": "853c01ca",
   "metadata": {},
   "outputs": [],
   "source": []
  },
  {
   "cell_type": "code",
   "execution_count": null,
   "id": "9a6c5200",
   "metadata": {},
   "outputs": [],
   "source": []
  },
  {
   "cell_type": "code",
   "execution_count": null,
   "id": "0595298b",
   "metadata": {},
   "outputs": [],
   "source": []
  }
 ],
 "metadata": {
  "kernelspec": {
   "display_name": "Python 3 (ipykernel)",
   "language": "python",
   "name": "python3"
  },
  "language_info": {
   "codemirror_mode": {
    "name": "ipython",
    "version": 3
   },
   "file_extension": ".py",
   "mimetype": "text/x-python",
   "name": "python",
   "nbconvert_exporter": "python",
   "pygments_lexer": "ipython3",
   "version": "3.9.2"
  }
 },
 "nbformat": 4,
 "nbformat_minor": 5
}
